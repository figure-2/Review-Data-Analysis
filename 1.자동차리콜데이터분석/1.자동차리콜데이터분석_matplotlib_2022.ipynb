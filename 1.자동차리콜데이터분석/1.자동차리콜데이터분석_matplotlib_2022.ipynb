{
 "cells": [
  {
   "attachments": {},
   "cell_type": "markdown",
   "metadata": {
    "execution": {
     "iopub.execute_input": "2021-07-14T07:39:16.657586Z",
     "iopub.status.busy": "2021-07-14T07:39:16.657090Z",
     "iopub.status.idle": "2021-07-14T07:39:16.848501Z",
     "shell.execute_reply": "2021-07-14T07:39:16.846744Z",
     "shell.execute_reply.started": "2021-07-14T07:39:16.657491Z"
    }
   },
   "source": [
    "# 자동차 리콜 데이터 분석"
   ]
  },
  {
   "attachments": {},
   "cell_type": "markdown",
   "metadata": {
    "execution": {
     "iopub.execute_input": "2021-07-14T07:40:47.362214Z",
     "iopub.status.busy": "2021-07-14T07:40:47.361841Z",
     "iopub.status.idle": "2021-07-14T07:40:47.368894Z",
     "shell.execute_reply": "2021-07-14T07:40:47.367421Z",
     "shell.execute_reply.started": "2021-07-14T07:40:47.362181Z"
    }
   },
   "source": [
    "---"
   ]
  },
  {
   "attachments": {},
   "cell_type": "markdown",
   "metadata": {},
   "source": [
    "## 프로젝트 목표\n",
    "- 한국교통안전공단 자동차 결함 리콜 데이터를 분석하여 유의미한 정보 도출\n",
    "- 탐색적 데이터 분석을 수행하기 위한 데이터 정제, 특성 엔지니어링, 시각화 방법 학습"
   ]
  },
  {
   "attachments": {},
   "cell_type": "markdown",
   "metadata": {},
   "source": [
    "---"
   ]
  },
  {
   "attachments": {},
   "cell_type": "markdown",
   "metadata": {},
   "source": [
    "## 프로젝트 목차\n",
    "1. **데이터 읽기:** 자동차 리콜 데이터를 불러오고 Dataframe 구조를 확인<br>\n",
    "    1.1. 데이터 불러오기<br>\n",
    "<br> \n",
    "2. **데이터 정제:** 결측치 확인 및 기초적인 데이터 변형<br>\n",
    "    2.1. 결측치 확인<br>\n",
    "    2.2. 중복값 확인<br>\n",
    "    2.3. 기초적인 데이터 변형<br>\n",
    "<br>\n",
    "3. **데이터 시각화:** 각 변수 별로 추가적인 정제 또는 feature engineering 과정을 거치고 시각화를 통하여 데이터의 특성 파악<br>\n",
    "    3.1. 제조사별 리콜 현황 출력<br>\n",
    "    3.2. 모델별 리콜 현황 출력<br>\n",
    "    3.3. 월별 리콜 현황 출력<br>\n",
    "    3.4. 생산연도별 리콜 현황 출력<br>\n",
    "    3.5. 4분기 제조사별 리콜 현황 출력<br>\n",
    "    3.6. 하반기 생산연도별 리콜 현황 출력<br>\n",
    "    3.7. 워드 클라우드를 이용한 리콜 사유 시각화<br>"
   ]
  },
  {
   "attachments": {},
   "cell_type": "markdown",
   "metadata": {},
   "source": [
    "---"
   ]
  },
  {
   "attachments": {},
   "cell_type": "markdown",
   "metadata": {},
   "source": [
    "## 데이터 출처\n",
    "-  https://www.data.go.kr/data/3048950/fileData.do"
   ]
  },
  {
   "attachments": {},
   "cell_type": "markdown",
   "metadata": {},
   "source": [
    "---"
   ]
  },
  {
   "attachments": {},
   "cell_type": "markdown",
   "metadata": {},
   "source": [
    "## 프로젝트 개요\n",
    "\n",
    "리콜(recall)은 제품의 설계, 제조 단계에서 결함이 발견되었을 시 문제 예방의 차원에서 판매자가 무상으로 수리, 점검 및 교환을 해주는 소비자 보호 제도입니다. 집집마다 개인용 자동차를 보유하게 되면서 자동차는 어느덧 우리 삶의 일상재가 되었지만, 안전성에 대해서는 산발적인 문제 제기가 계속되고 있고, 이에 따라 전격적인 자동차 리콜 사태도 종종 발생하여 화제를 모으곤 합니다.\n",
    "\n",
    "이번 프로젝트에서는 한국교통안전공단에서 제공한 2022년 자동차 결함 리콜 데이터를 활용하여 유의미한 패턴 및 인사이트를 발굴하고 시각화하는 실습을 진행하도록 하겠습니다."
   ]
  },
  {
   "attachments": {},
   "cell_type": "markdown",
   "metadata": {},
   "source": [
    "---"
   ]
  },
  {
   "attachments": {},
   "cell_type": "markdown",
   "metadata": {},
   "source": [
    "## 1. 데이터 읽기"
   ]
  },
  {
   "attachments": {},
   "cell_type": "markdown",
   "metadata": {},
   "source": [
    "필요한 패키지 설치 및 `import`한 후 `pandas`를 사용하여 데이터를 읽고 어떠한 데이터가 저장되어 있는지 확인합니다."
   ]
  },
  {
   "attachments": {},
   "cell_type": "markdown",
   "metadata": {},
   "source": [
    "### 1.1. 데이터 불러오기"
   ]
  },
  {
   "cell_type": "code",
   "execution_count": 234,
   "metadata": {
    "execution": {
     "iopub.execute_input": "2021-07-14T07:49:24.304064Z",
     "iopub.status.busy": "2021-07-14T07:49:24.303454Z",
     "iopub.status.idle": "2021-07-14T07:49:25.479762Z",
     "shell.execute_reply": "2021-07-14T07:49:25.478867Z",
     "shell.execute_reply.started": "2021-07-14T07:49:24.304010Z"
    }
   },
   "outputs": [],
   "source": [
    "import numpy as np \n",
    "import pandas as pd \n",
    "import matplotlib.pyplot as plt\n",
    "import seaborn as sns"
   ]
  },
  {
   "cell_type": "code",
   "execution_count": 235,
   "metadata": {
    "execution": {
     "iopub.execute_input": "2021-07-14T07:49:25.481432Z",
     "iopub.status.busy": "2021-07-14T07:49:25.481163Z",
     "iopub.status.idle": "2021-07-14T07:49:25.535734Z",
     "shell.execute_reply": "2021-07-14T07:49:25.534277Z",
     "shell.execute_reply.started": "2021-07-14T07:49:25.481406Z"
    }
   },
   "outputs": [],
   "source": [
    "# pd.read_csv를 통하여 dataframe 형태로 읽어옵니다.\n",
    "\n",
    "df = pd.read_csv('./data/한국교통안전공단_자동차결함 리콜현황_20221231.csv', encoding='euc_kr')\n"
   ]
  },
  {
   "cell_type": "code",
   "execution_count": 236,
   "metadata": {
    "execution": {
     "iopub.execute_input": "2021-07-14T07:49:25.538436Z",
     "iopub.status.busy": "2021-07-14T07:49:25.538013Z",
     "iopub.status.idle": "2021-07-14T07:49:25.574554Z",
     "shell.execute_reply": "2021-07-14T07:49:25.573616Z",
     "shell.execute_reply.started": "2021-07-14T07:49:25.538401Z"
    }
   },
   "outputs": [
    {
     "data": {
      "text/html": [
       "<div>\n",
       "<style scoped>\n",
       "    .dataframe tbody tr th:only-of-type {\n",
       "        vertical-align: middle;\n",
       "    }\n",
       "\n",
       "    .dataframe tbody tr th {\n",
       "        vertical-align: top;\n",
       "    }\n",
       "\n",
       "    .dataframe thead th {\n",
       "        text-align: right;\n",
       "    }\n",
       "</style>\n",
       "<table border=\"1\" class=\"dataframe\">\n",
       "  <thead>\n",
       "    <tr style=\"text-align: right;\">\n",
       "      <th></th>\n",
       "      <th>제작자</th>\n",
       "      <th>차명</th>\n",
       "      <th>생산기간(부터)</th>\n",
       "      <th>생산기간(까지)</th>\n",
       "      <th>리콜개시일</th>\n",
       "      <th>리콜사유</th>\n",
       "    </tr>\n",
       "  </thead>\n",
       "  <tbody>\n",
       "    <tr>\n",
       "      <th>0</th>\n",
       "      <td>혼다코리아(주)</td>\n",
       "      <td>CBR1000RR-R</td>\n",
       "      <td>2021-04-29</td>\n",
       "      <td>2021-05-12</td>\n",
       "      <td>2022-01-03</td>\n",
       "      <td>제작 공정 중 라디에이터 캡의 제조 불량으로 라디에이터 캡과 필러넥이 제대로 밀착되...</td>\n",
       "    </tr>\n",
       "    <tr>\n",
       "      <th>1</th>\n",
       "      <td>폭스바겐그룹코리아 주식회사</td>\n",
       "      <td>Polo 5 FL 1.4 TDI BMT</td>\n",
       "      <td>2014-11-17</td>\n",
       "      <td>2014-11-25</td>\n",
       "      <td>2022-01-05</td>\n",
       "      <td>특정 기간 내에 특정 공급 업체(이드낙)의 생산 공정 불량으로 인해, 메카트로닉스 ...</td>\n",
       "    </tr>\n",
       "    <tr>\n",
       "      <th>2</th>\n",
       "      <td>폭스바겐그룹코리아 주식회사</td>\n",
       "      <td>Jetta 6 FL 2.0 TDI 110PS</td>\n",
       "      <td>2014-11-05</td>\n",
       "      <td>2015-02-26</td>\n",
       "      <td>2022-01-05</td>\n",
       "      <td>특정 기간 내에 특정 공급 업체(이드낙)의 생산 공정 불량으로 인해, 메카트로닉스 ...</td>\n",
       "    </tr>\n",
       "    <tr>\n",
       "      <th>3</th>\n",
       "      <td>폭스바겐그룹코리아 주식회사</td>\n",
       "      <td>Jetta 1.6 TDI BMT</td>\n",
       "      <td>2011-02-28</td>\n",
       "      <td>2012-09-25</td>\n",
       "      <td>2022-01-05</td>\n",
       "      <td>특정 기간 내에 특정 공급 업체(이드낙)의 생산 공정 불량으로 인해, 메카트로닉스 ...</td>\n",
       "    </tr>\n",
       "    <tr>\n",
       "      <th>4</th>\n",
       "      <td>폭스바겐그룹코리아 주식회사</td>\n",
       "      <td>Golf A7 1.6 TDI BMT</td>\n",
       "      <td>2014-12-19</td>\n",
       "      <td>2015-02-26</td>\n",
       "      <td>2022-01-05</td>\n",
       "      <td>특정 기간 내에 특정 공급 업체(이드낙)의 생산 공정 불량으로 인해, 메카트로닉스 ...</td>\n",
       "    </tr>\n",
       "  </tbody>\n",
       "</table>\n",
       "</div>"
      ],
      "text/plain": [
       "              제작자                        차명    생산기간(부터)    생산기간(까지)  \\\n",
       "0        혼다코리아(주)               CBR1000RR-R  2021-04-29  2021-05-12   \n",
       "1  폭스바겐그룹코리아 주식회사     Polo 5 FL 1.4 TDI BMT  2014-11-17  2014-11-25   \n",
       "2  폭스바겐그룹코리아 주식회사  Jetta 6 FL 2.0 TDI 110PS  2014-11-05  2015-02-26   \n",
       "3  폭스바겐그룹코리아 주식회사         Jetta 1.6 TDI BMT  2011-02-28  2012-09-25   \n",
       "4  폭스바겐그룹코리아 주식회사       Golf A7 1.6 TDI BMT  2014-12-19  2015-02-26   \n",
       "\n",
       "        리콜개시일                                               리콜사유  \n",
       "0  2022-01-03  제작 공정 중 라디에이터 캡의 제조 불량으로 라디에이터 캡과 필러넥이 제대로 밀착되...  \n",
       "1  2022-01-05  특정 기간 내에 특정 공급 업체(이드낙)의 생산 공정 불량으로 인해, 메카트로닉스 ...  \n",
       "2  2022-01-05  특정 기간 내에 특정 공급 업체(이드낙)의 생산 공정 불량으로 인해, 메카트로닉스 ...  \n",
       "3  2022-01-05  특정 기간 내에 특정 공급 업체(이드낙)의 생산 공정 불량으로 인해, 메카트로닉스 ...  \n",
       "4  2022-01-05  특정 기간 내에 특정 공급 업체(이드낙)의 생산 공정 불량으로 인해, 메카트로닉스 ...  "
      ]
     },
     "execution_count": 236,
     "metadata": {},
     "output_type": "execute_result"
    }
   ],
   "source": [
    "# 상위 5개 데이터를 출력합니다.\n",
    "df.head()"
   ]
  },
  {
   "cell_type": "code",
   "execution_count": 237,
   "metadata": {
    "execution": {
     "iopub.execute_input": "2021-07-14T07:49:25.576437Z",
     "iopub.status.busy": "2021-07-14T07:49:25.576110Z",
     "iopub.status.idle": "2021-07-14T07:49:25.593406Z",
     "shell.execute_reply": "2021-07-14T07:49:25.592375Z",
     "shell.execute_reply.started": "2021-07-14T07:49:25.576409Z"
    }
   },
   "outputs": [
    {
     "data": {
      "text/html": [
       "<div>\n",
       "<style scoped>\n",
       "    .dataframe tbody tr th:only-of-type {\n",
       "        vertical-align: middle;\n",
       "    }\n",
       "\n",
       "    .dataframe tbody tr th {\n",
       "        vertical-align: top;\n",
       "    }\n",
       "\n",
       "    .dataframe thead th {\n",
       "        text-align: right;\n",
       "    }\n",
       "</style>\n",
       "<table border=\"1\" class=\"dataframe\">\n",
       "  <thead>\n",
       "    <tr style=\"text-align: right;\">\n",
       "      <th></th>\n",
       "      <th>제작자</th>\n",
       "      <th>차명</th>\n",
       "      <th>생산기간(부터)</th>\n",
       "      <th>생산기간(까지)</th>\n",
       "      <th>리콜개시일</th>\n",
       "      <th>리콜사유</th>\n",
       "    </tr>\n",
       "  </thead>\n",
       "  <tbody>\n",
       "    <tr>\n",
       "      <th>0</th>\n",
       "      <td>혼다코리아(주)</td>\n",
       "      <td>CBR1000RR-R</td>\n",
       "      <td>2021-04-29</td>\n",
       "      <td>2021-05-12</td>\n",
       "      <td>2022-01-03</td>\n",
       "      <td>제작 공정 중 라디에이터 캡의 제조 불량으로 라디에이터 캡과 필러넥이 제대로 밀착되...</td>\n",
       "    </tr>\n",
       "    <tr>\n",
       "      <th>1</th>\n",
       "      <td>폭스바겐그룹코리아 주식회사</td>\n",
       "      <td>Polo 5 FL 1.4 TDI BMT</td>\n",
       "      <td>2014-11-17</td>\n",
       "      <td>2014-11-25</td>\n",
       "      <td>2022-01-05</td>\n",
       "      <td>특정 기간 내에 특정 공급 업체(이드낙)의 생산 공정 불량으로 인해, 메카트로닉스 ...</td>\n",
       "    </tr>\n",
       "    <tr>\n",
       "      <th>2</th>\n",
       "      <td>폭스바겐그룹코리아 주식회사</td>\n",
       "      <td>Jetta 6 FL 2.0 TDI 110PS</td>\n",
       "      <td>2014-11-05</td>\n",
       "      <td>2015-02-26</td>\n",
       "      <td>2022-01-05</td>\n",
       "      <td>특정 기간 내에 특정 공급 업체(이드낙)의 생산 공정 불량으로 인해, 메카트로닉스 ...</td>\n",
       "    </tr>\n",
       "    <tr>\n",
       "      <th>3</th>\n",
       "      <td>폭스바겐그룹코리아 주식회사</td>\n",
       "      <td>Jetta 1.6 TDI BMT</td>\n",
       "      <td>2011-02-28</td>\n",
       "      <td>2012-09-25</td>\n",
       "      <td>2022-01-05</td>\n",
       "      <td>특정 기간 내에 특정 공급 업체(이드낙)의 생산 공정 불량으로 인해, 메카트로닉스 ...</td>\n",
       "    </tr>\n",
       "    <tr>\n",
       "      <th>4</th>\n",
       "      <td>폭스바겐그룹코리아 주식회사</td>\n",
       "      <td>Golf A7 1.6 TDI BMT</td>\n",
       "      <td>2014-12-19</td>\n",
       "      <td>2015-02-26</td>\n",
       "      <td>2022-01-05</td>\n",
       "      <td>특정 기간 내에 특정 공급 업체(이드낙)의 생산 공정 불량으로 인해, 메카트로닉스 ...</td>\n",
       "    </tr>\n",
       "    <tr>\n",
       "      <th>5</th>\n",
       "      <td>폭스바겐그룹코리아 주식회사</td>\n",
       "      <td>Golf 1.6 TDI BMT</td>\n",
       "      <td>2010-07-02</td>\n",
       "      <td>2012-10-01</td>\n",
       "      <td>2022-01-05</td>\n",
       "      <td>특정 기간 내에 특정 공급 업체(이드낙)의 생산 공정 불량으로 인해, 메카트로닉스 ...</td>\n",
       "    </tr>\n",
       "    <tr>\n",
       "      <th>6</th>\n",
       "      <td>메르세데스벤츠코리아(주)</td>\n",
       "      <td>GLC 220 d 4MATIC</td>\n",
       "      <td>2020-08-06</td>\n",
       "      <td>2020-08-06</td>\n",
       "      <td>2022-01-07</td>\n",
       "      <td>크랭크샤프트의 내구성 부족으로 인해 엔진 부하가 높을 경우 크랭크샤프트가 파손될 수...</td>\n",
       "    </tr>\n",
       "    <tr>\n",
       "      <th>7</th>\n",
       "      <td>메르세데스벤츠코리아(주)</td>\n",
       "      <td>E 220 d 4MATIC</td>\n",
       "      <td>2020-08-26</td>\n",
       "      <td>2020-08-26</td>\n",
       "      <td>2022-01-07</td>\n",
       "      <td>크랭크샤프트의 내구성 부족으로 인해 엔진 부하가 높을 경우 크랭크샤프트가 파손될 수...</td>\n",
       "    </tr>\n",
       "    <tr>\n",
       "      <th>8</th>\n",
       "      <td>메르세데스벤츠코리아(주)</td>\n",
       "      <td>GLE 350 e 4MATIC Coupe</td>\n",
       "      <td>2020-03-25</td>\n",
       "      <td>2021-01-26</td>\n",
       "      <td>2022-01-07</td>\n",
       "      <td>연료탱크 압력 센서의 고정 클립이 내식성 부족으로 장기간 운행 시 고정 클립이 부식...</td>\n",
       "    </tr>\n",
       "    <tr>\n",
       "      <th>9</th>\n",
       "      <td>메르세데스벤츠코리아(주)</td>\n",
       "      <td>GLE 350 e 4MATIC</td>\n",
       "      <td>2020-03-27</td>\n",
       "      <td>2021-01-25</td>\n",
       "      <td>2022-01-07</td>\n",
       "      <td>연료탱크 압력 센서의 고정 클립이 내식성 부족으로 장기간 운행 시 고정 클립이 부식...</td>\n",
       "    </tr>\n",
       "  </tbody>\n",
       "</table>\n",
       "</div>"
      ],
      "text/plain": [
       "              제작자                        차명    생산기간(부터)    생산기간(까지)  \\\n",
       "0        혼다코리아(주)               CBR1000RR-R  2021-04-29  2021-05-12   \n",
       "1  폭스바겐그룹코리아 주식회사     Polo 5 FL 1.4 TDI BMT  2014-11-17  2014-11-25   \n",
       "2  폭스바겐그룹코리아 주식회사  Jetta 6 FL 2.0 TDI 110PS  2014-11-05  2015-02-26   \n",
       "3  폭스바겐그룹코리아 주식회사         Jetta 1.6 TDI BMT  2011-02-28  2012-09-25   \n",
       "4  폭스바겐그룹코리아 주식회사       Golf A7 1.6 TDI BMT  2014-12-19  2015-02-26   \n",
       "5  폭스바겐그룹코리아 주식회사          Golf 1.6 TDI BMT  2010-07-02  2012-10-01   \n",
       "6   메르세데스벤츠코리아(주)          GLC 220 d 4MATIC  2020-08-06  2020-08-06   \n",
       "7   메르세데스벤츠코리아(주)            E 220 d 4MATIC  2020-08-26  2020-08-26   \n",
       "8   메르세데스벤츠코리아(주)    GLE 350 e 4MATIC Coupe  2020-03-25  2021-01-26   \n",
       "9   메르세데스벤츠코리아(주)          GLE 350 e 4MATIC  2020-03-27  2021-01-25   \n",
       "\n",
       "        리콜개시일                                               리콜사유  \n",
       "0  2022-01-03  제작 공정 중 라디에이터 캡의 제조 불량으로 라디에이터 캡과 필러넥이 제대로 밀착되...  \n",
       "1  2022-01-05  특정 기간 내에 특정 공급 업체(이드낙)의 생산 공정 불량으로 인해, 메카트로닉스 ...  \n",
       "2  2022-01-05  특정 기간 내에 특정 공급 업체(이드낙)의 생산 공정 불량으로 인해, 메카트로닉스 ...  \n",
       "3  2022-01-05  특정 기간 내에 특정 공급 업체(이드낙)의 생산 공정 불량으로 인해, 메카트로닉스 ...  \n",
       "4  2022-01-05  특정 기간 내에 특정 공급 업체(이드낙)의 생산 공정 불량으로 인해, 메카트로닉스 ...  \n",
       "5  2022-01-05  특정 기간 내에 특정 공급 업체(이드낙)의 생산 공정 불량으로 인해, 메카트로닉스 ...  \n",
       "6  2022-01-07  크랭크샤프트의 내구성 부족으로 인해 엔진 부하가 높을 경우 크랭크샤프트가 파손될 수...  \n",
       "7  2022-01-07  크랭크샤프트의 내구성 부족으로 인해 엔진 부하가 높을 경우 크랭크샤프트가 파손될 수...  \n",
       "8  2022-01-07  연료탱크 압력 센서의 고정 클립이 내식성 부족으로 장기간 운행 시 고정 클립이 부식...  \n",
       "9  2022-01-07  연료탱크 압력 센서의 고정 클립이 내식성 부족으로 장기간 운행 시 고정 클립이 부식...  "
      ]
     },
     "execution_count": 237,
     "metadata": {},
     "output_type": "execute_result"
    }
   ],
   "source": [
    "# 상위 10개 데이터를 출력합니다.\n",
    "df.head(10)"
   ]
  },
  {
   "cell_type": "code",
   "execution_count": 238,
   "metadata": {
    "execution": {
     "iopub.execute_input": "2021-07-14T07:49:25.595269Z",
     "iopub.status.busy": "2021-07-14T07:49:25.594828Z",
     "iopub.status.idle": "2021-07-14T07:49:25.616366Z",
     "shell.execute_reply": "2021-07-14T07:49:25.615093Z",
     "shell.execute_reply.started": "2021-07-14T07:49:25.595233Z"
    }
   },
   "outputs": [
    {
     "data": {
      "text/html": [
       "<div>\n",
       "<style scoped>\n",
       "    .dataframe tbody tr th:only-of-type {\n",
       "        vertical-align: middle;\n",
       "    }\n",
       "\n",
       "    .dataframe tbody tr th {\n",
       "        vertical-align: top;\n",
       "    }\n",
       "\n",
       "    .dataframe thead th {\n",
       "        text-align: right;\n",
       "    }\n",
       "</style>\n",
       "<table border=\"1\" class=\"dataframe\">\n",
       "  <thead>\n",
       "    <tr style=\"text-align: right;\">\n",
       "      <th></th>\n",
       "      <th>제작자</th>\n",
       "      <th>차명</th>\n",
       "      <th>생산기간(부터)</th>\n",
       "      <th>생산기간(까지)</th>\n",
       "      <th>리콜개시일</th>\n",
       "      <th>리콜사유</th>\n",
       "    </tr>\n",
       "  </thead>\n",
       "  <tbody>\n",
       "    <tr>\n",
       "      <th>1414</th>\n",
       "      <td>비엠더블유코리아(주)</td>\n",
       "      <td>BMW i4 M50</td>\n",
       "      <td>2021-11-22</td>\n",
       "      <td>2022-10-24</td>\n",
       "      <td>2022-12-26</td>\n",
       "      <td>배터리 관리 모듈(SME)*과 관련한 제작 결함이 발견되었습니다. *배터리 관리 모...</td>\n",
       "    </tr>\n",
       "    <tr>\n",
       "      <th>1415</th>\n",
       "      <td>비엠더블유코리아(주)</td>\n",
       "      <td>BMW i4 eDrive40</td>\n",
       "      <td>2021-11-23</td>\n",
       "      <td>2022-10-24</td>\n",
       "      <td>2022-12-26</td>\n",
       "      <td>배터리 관리 모듈(SME)*과 관련한 제작 결함이 발견되었습니다. *배터리 관리 모...</td>\n",
       "    </tr>\n",
       "    <tr>\n",
       "      <th>1416</th>\n",
       "      <td>(주)스포츠모터사이클코리아</td>\n",
       "      <td>1290 SUPER DUKE R</td>\n",
       "      <td>2020-02-11</td>\n",
       "      <td>2022-04-29</td>\n",
       "      <td>2022-12-27</td>\n",
       "      <td>메인 와이어링 하네스와 차체 구성 부품 간의 간섭으로 인한 피복 손상으로 배선 단선...</td>\n",
       "    </tr>\n",
       "    <tr>\n",
       "      <th>1417</th>\n",
       "      <td>화창상사(주)</td>\n",
       "      <td>SPRINGFIELD</td>\n",
       "      <td>2019-10-28</td>\n",
       "      <td>2020-06-03</td>\n",
       "      <td>2022-12-27</td>\n",
       "      <td>차량제어모듈(VEHICLE CONTROL MODULE) 및 커넥터 접촉 불량(헐거움...</td>\n",
       "    </tr>\n",
       "    <tr>\n",
       "      <th>1418</th>\n",
       "      <td>화창상사(주)</td>\n",
       "      <td>CHIEF VINTAGE</td>\n",
       "      <td>2019-08-02</td>\n",
       "      <td>2020-06-04</td>\n",
       "      <td>2022-12-27</td>\n",
       "      <td>차량제어모듈(VEHICLE CONTROL MODULE) 및 커넥터 접촉 불량(헐거움...</td>\n",
       "    </tr>\n",
       "  </tbody>\n",
       "</table>\n",
       "</div>"
      ],
      "text/plain": [
       "                 제작자                 차명    생산기간(부터)    생산기간(까지)       리콜개시일  \\\n",
       "1414     비엠더블유코리아(주)         BMW i4 M50  2021-11-22  2022-10-24  2022-12-26   \n",
       "1415     비엠더블유코리아(주)    BMW i4 eDrive40  2021-11-23  2022-10-24  2022-12-26   \n",
       "1416  (주)스포츠모터사이클코리아  1290 SUPER DUKE R  2020-02-11  2022-04-29  2022-12-27   \n",
       "1417         화창상사(주)        SPRINGFIELD  2019-10-28  2020-06-03  2022-12-27   \n",
       "1418         화창상사(주)      CHIEF VINTAGE  2019-08-02  2020-06-04  2022-12-27   \n",
       "\n",
       "                                                   리콜사유  \n",
       "1414  배터리 관리 모듈(SME)*과 관련한 제작 결함이 발견되었습니다. *배터리 관리 모...  \n",
       "1415  배터리 관리 모듈(SME)*과 관련한 제작 결함이 발견되었습니다. *배터리 관리 모...  \n",
       "1416  메인 와이어링 하네스와 차체 구성 부품 간의 간섭으로 인한 피복 손상으로 배선 단선...  \n",
       "1417  차량제어모듈(VEHICLE CONTROL MODULE) 및 커넥터 접촉 불량(헐거움...  \n",
       "1418  차량제어모듈(VEHICLE CONTROL MODULE) 및 커넥터 접촉 불량(헐거움...  "
      ]
     },
     "execution_count": 238,
     "metadata": {},
     "output_type": "execute_result"
    }
   ],
   "source": [
    "# 하위 5개 데이터를 출력합니다.\n",
    "df.tail()"
   ]
  },
  {
   "cell_type": "code",
   "execution_count": 239,
   "metadata": {
    "execution": {
     "iopub.execute_input": "2021-07-14T07:49:25.618499Z",
     "iopub.status.busy": "2021-07-14T07:49:25.618208Z",
     "iopub.status.idle": "2021-07-14T07:49:25.641552Z",
     "shell.execute_reply": "2021-07-14T07:49:25.640613Z",
     "shell.execute_reply.started": "2021-07-14T07:49:25.618472Z"
    }
   },
   "outputs": [
    {
     "name": "stdout",
     "output_type": "stream",
     "text": [
      "<class 'pandas.core.frame.DataFrame'>\n",
      "RangeIndex: 1419 entries, 0 to 1418\n",
      "Data columns (total 6 columns):\n",
      " #   Column    Non-Null Count  Dtype \n",
      "---  ------    --------------  ----- \n",
      " 0   제작자       1419 non-null   object\n",
      " 1   차명        1419 non-null   object\n",
      " 2   생산기간(부터)  1419 non-null   object\n",
      " 3   생산기간(까지)  1419 non-null   object\n",
      " 4   리콜개시일     1419 non-null   object\n",
      " 5   리콜사유      1419 non-null   object\n",
      "dtypes: object(6)\n",
      "memory usage: 66.6+ KB\n"
     ]
    }
   ],
   "source": [
    "# dataframe 정보를 요약하여 출력합니다. \n",
    "df.info()"
   ]
  },
  {
   "cell_type": "markdown",
   "metadata": {},
   "source": [
    "```\n",
    "1.관측치 수는?  1419 개\n",
    "2.컬럼수는 ?    6개\n",
    "3.결측치는?     0개\n",
    "4.중복행은?     지금은 확인 못함\n",
    "5.각 피처의 타입은 적절한가?    생산기간(부터), 생산기간(까지), 리콜 개시일은 문자형이 아니라 날짜타입이 더 적절하지 않을까??\n",
    "```"
   ]
  },
  {
   "cell_type": "code",
   "execution_count": 240,
   "metadata": {},
   "outputs": [
    {
     "data": {
      "text/html": [
       "<div>\n",
       "<style scoped>\n",
       "    .dataframe tbody tr th:only-of-type {\n",
       "        vertical-align: middle;\n",
       "    }\n",
       "\n",
       "    .dataframe tbody tr th {\n",
       "        vertical-align: top;\n",
       "    }\n",
       "\n",
       "    .dataframe thead th {\n",
       "        text-align: right;\n",
       "    }\n",
       "</style>\n",
       "<table border=\"1\" class=\"dataframe\">\n",
       "  <thead>\n",
       "    <tr style=\"text-align: right;\">\n",
       "      <th></th>\n",
       "      <th>제작자</th>\n",
       "      <th>차명</th>\n",
       "      <th>생산기간(부터)</th>\n",
       "      <th>생산기간(까지)</th>\n",
       "      <th>리콜개시일</th>\n",
       "      <th>리콜사유</th>\n",
       "    </tr>\n",
       "  </thead>\n",
       "  <tbody>\n",
       "    <tr>\n",
       "      <th>count</th>\n",
       "      <td>1419</td>\n",
       "      <td>1419</td>\n",
       "      <td>1419</td>\n",
       "      <td>1419</td>\n",
       "      <td>1419</td>\n",
       "      <td>1419</td>\n",
       "    </tr>\n",
       "    <tr>\n",
       "      <th>unique</th>\n",
       "      <td>36</td>\n",
       "      <td>728</td>\n",
       "      <td>933</td>\n",
       "      <td>911</td>\n",
       "      <td>134</td>\n",
       "      <td>265</td>\n",
       "    </tr>\n",
       "    <tr>\n",
       "      <th>top</th>\n",
       "      <td>비엠더블유코리아(주)</td>\n",
       "      <td>328i</td>\n",
       "      <td>2020-07-21</td>\n",
       "      <td>2021-09-16</td>\n",
       "      <td>2022-08-26</td>\n",
       "      <td>배기가스재순환장치 쿨러 내부 냉각수 누설 가능성</td>\n",
       "    </tr>\n",
       "    <tr>\n",
       "      <th>freq</th>\n",
       "      <td>432</td>\n",
       "      <td>25</td>\n",
       "      <td>14</td>\n",
       "      <td>10</td>\n",
       "      <td>101</td>\n",
       "      <td>149</td>\n",
       "    </tr>\n",
       "  </tbody>\n",
       "</table>\n",
       "</div>"
      ],
      "text/plain": [
       "                제작자    차명    생산기간(부터)    생산기간(까지)       리콜개시일  \\\n",
       "count          1419  1419        1419        1419        1419   \n",
       "unique           36   728         933         911         134   \n",
       "top     비엠더블유코리아(주)  328i  2020-07-21  2021-09-16  2022-08-26   \n",
       "freq            432    25          14          10         101   \n",
       "\n",
       "                              리콜사유  \n",
       "count                         1419  \n",
       "unique                         265  \n",
       "top     배기가스재순환장치 쿨러 내부 냉각수 누설 가능성  \n",
       "freq                           149  "
      ]
     },
     "execution_count": 240,
     "metadata": {},
     "output_type": "execute_result"
    }
   ],
   "source": [
    "df.describe() # 기초 통계 정보 파악 - 수치형 데이터의 경우"
   ]
  },
  {
   "attachments": {},
   "cell_type": "markdown",
   "metadata": {},
   "source": [
    "---"
   ]
  },
  {
   "attachments": {},
   "cell_type": "markdown",
   "metadata": {},
   "source": [
    "## 2. 데이터 정제"
   ]
  },
  {
   "attachments": {},
   "cell_type": "markdown",
   "metadata": {},
   "source": [
    "데이터를 읽고 확인했다면 결측값(missing data), 중복값(duplicates)을 처리하고 열 이름 변경과 같은 기초적인 데이터 변형을 진행해봅시다."
   ]
  },
  {
   "attachments": {},
   "cell_type": "markdown",
   "metadata": {},
   "source": [
    "### 2.1. 결측치 확인"
   ]
  },
  {
   "attachments": {},
   "cell_type": "markdown",
   "metadata": {},
   "source": [
    "`isnull()` 함수를 이용하여 결측치를 확인해봅시다."
   ]
  },
  {
   "cell_type": "code",
   "execution_count": 241,
   "metadata": {},
   "outputs": [
    {
     "data": {
      "text/plain": [
       "제작자         0\n",
       "차명          0\n",
       "생산기간(부터)    0\n",
       "생산기간(까지)    0\n",
       "리콜개시일       0\n",
       "리콜사유        0\n",
       "dtype: int64"
      ]
     },
     "execution_count": 241,
     "metadata": {},
     "output_type": "execute_result"
    }
   ],
   "source": [
    "# 각 열 별로 결측치의 갯수를 반환합니다. (True:1, False:0)\n",
    "df.isnull().sum()"
   ]
  },
  {
   "attachments": {},
   "cell_type": "markdown",
   "metadata": {},
   "source": [
    "### 2.2. 중복값 확인"
   ]
  },
  {
   "attachments": {},
   "cell_type": "markdown",
   "metadata": {},
   "source": [
    "`duplicated()` 함수를 이용하여 중복값을 확인해봅시다."
   ]
  },
  {
   "cell_type": "code",
   "execution_count": 242,
   "metadata": {},
   "outputs": [
    {
     "data": {
      "text/plain": [
       "0       False\n",
       "1       False\n",
       "2       False\n",
       "3       False\n",
       "4       False\n",
       "        ...  \n",
       "1414    False\n",
       "1415    False\n",
       "1416    False\n",
       "1417    False\n",
       "1418    False\n",
       "Length: 1419, dtype: bool"
      ]
     },
     "execution_count": 242,
     "metadata": {},
     "output_type": "execute_result"
    }
   ],
   "source": [
    "df.duplicated(keep=False)"
   ]
  },
  {
   "cell_type": "code",
   "execution_count": 243,
   "metadata": {
    "execution": {
     "iopub.execute_input": "2021-07-14T07:49:26.204454Z",
     "iopub.status.busy": "2021-07-14T07:49:26.204028Z",
     "iopub.status.idle": "2021-07-14T07:49:26.228760Z",
     "shell.execute_reply": "2021-07-14T07:49:26.227322Z",
     "shell.execute_reply.started": "2021-07-14T07:49:26.204412Z"
    }
   },
   "outputs": [
    {
     "data": {
      "text/html": [
       "<div>\n",
       "<style scoped>\n",
       "    .dataframe tbody tr th:only-of-type {\n",
       "        vertical-align: middle;\n",
       "    }\n",
       "\n",
       "    .dataframe tbody tr th {\n",
       "        vertical-align: top;\n",
       "    }\n",
       "\n",
       "    .dataframe thead th {\n",
       "        text-align: right;\n",
       "    }\n",
       "</style>\n",
       "<table border=\"1\" class=\"dataframe\">\n",
       "  <thead>\n",
       "    <tr style=\"text-align: right;\">\n",
       "      <th></th>\n",
       "      <th>제작자</th>\n",
       "      <th>차명</th>\n",
       "      <th>생산기간(부터)</th>\n",
       "      <th>생산기간(까지)</th>\n",
       "      <th>리콜개시일</th>\n",
       "      <th>리콜사유</th>\n",
       "    </tr>\n",
       "  </thead>\n",
       "  <tbody>\n",
       "    <tr>\n",
       "      <th>303</th>\n",
       "      <td>대전기계공업(주)</td>\n",
       "      <td>W800</td>\n",
       "      <td>2019-02-21</td>\n",
       "      <td>2022-02-10</td>\n",
       "      <td>2022-03-28</td>\n",
       "      <td>경음기에 전기 배선을 연결하는 단자의 내구성 부족으로 주행 중 특정한 엔진 회전 영...</td>\n",
       "    </tr>\n",
       "    <tr>\n",
       "      <th>304</th>\n",
       "      <td>대전기계공업(주)</td>\n",
       "      <td>W800</td>\n",
       "      <td>2019-02-21</td>\n",
       "      <td>2022-02-10</td>\n",
       "      <td>2022-03-28</td>\n",
       "      <td>경음기에 전기 배선을 연결하는 단자의 내구성 부족으로 주행 중 특정한 엔진 회전 영...</td>\n",
       "    </tr>\n",
       "    <tr>\n",
       "      <th>392</th>\n",
       "      <td>메르세데스벤츠코리아(주)</td>\n",
       "      <td>A 220</td>\n",
       "      <td>2021-09-16</td>\n",
       "      <td>2021-09-16</td>\n",
       "      <td>2022-04-08</td>\n",
       "      <td>비상 통신 시스템(eCall)을 위한 통신 모듈 소프트웨어가 사양에 맞지 않아 차량...</td>\n",
       "    </tr>\n",
       "    <tr>\n",
       "      <th>393</th>\n",
       "      <td>메르세데스벤츠코리아(주)</td>\n",
       "      <td>A 220</td>\n",
       "      <td>2021-09-16</td>\n",
       "      <td>2021-09-16</td>\n",
       "      <td>2022-04-08</td>\n",
       "      <td>비상 통신 시스템(eCall)을 위한 통신 모듈 소프트웨어가 사양에 맞지 않아 차량...</td>\n",
       "    </tr>\n",
       "    <tr>\n",
       "      <th>527</th>\n",
       "      <td>(주)재규어랜드로버코리아</td>\n",
       "      <td>레인지로버 이보크 2.0D</td>\n",
       "      <td>2015-05-14</td>\n",
       "      <td>2017-07-27</td>\n",
       "      <td>2022-05-02</td>\n",
       "      <td>엔진오일오염도 증가에 따른 엔진오일펌프, 타이밍체인의 마모 및 파손 엔진오일 서비스...</td>\n",
       "    </tr>\n",
       "    <tr>\n",
       "      <th>528</th>\n",
       "      <td>(주)재규어랜드로버코리아</td>\n",
       "      <td>레인지로버 이보크 2.0D</td>\n",
       "      <td>2015-05-14</td>\n",
       "      <td>2017-07-27</td>\n",
       "      <td>2022-05-02</td>\n",
       "      <td>엔진오일오염도 증가에 따른 엔진오일펌프, 타이밍체인의 마모 및 파손 엔진오일 서비스...</td>\n",
       "    </tr>\n",
       "    <tr>\n",
       "      <th>1144</th>\n",
       "      <td>스카니아코리아그룹(주)</td>\n",
       "      <td>스카니아카고</td>\n",
       "      <td>2021-02-15</td>\n",
       "      <td>2021-02-16</td>\n",
       "      <td>2022-10-11</td>\n",
       "      <td>타이로드 끝 부분에 슬롯이 없는 타이로드가 장착되어 있을 가능성이 있습니다.</td>\n",
       "    </tr>\n",
       "    <tr>\n",
       "      <th>1145</th>\n",
       "      <td>스카니아코리아그룹(주)</td>\n",
       "      <td>스카니아카고</td>\n",
       "      <td>2021-02-15</td>\n",
       "      <td>2021-02-16</td>\n",
       "      <td>2022-10-11</td>\n",
       "      <td>타이로드 끝 부분에 슬롯이 없는 타이로드가 장착되어 있을 가능성이 있습니다.</td>\n",
       "    </tr>\n",
       "    <tr>\n",
       "      <th>1216</th>\n",
       "      <td>(주)재규어랜드로버코리아</td>\n",
       "      <td>레인지로버 이보크 2.0D</td>\n",
       "      <td>2015-05-14</td>\n",
       "      <td>2017-07-27</td>\n",
       "      <td>2022-11-01</td>\n",
       "      <td>엔진오일오염도 증가에 따른 엔진오일펌프, 타이밍체인의 마모 및 파손 엔진오일 서비스...</td>\n",
       "    </tr>\n",
       "    <tr>\n",
       "      <th>1217</th>\n",
       "      <td>(주)재규어랜드로버코리아</td>\n",
       "      <td>레인지로버 이보크 2.0D</td>\n",
       "      <td>2015-05-14</td>\n",
       "      <td>2017-07-27</td>\n",
       "      <td>2022-11-01</td>\n",
       "      <td>엔진오일오염도 증가에 따른 엔진오일펌프, 타이밍체인의 마모 및 파손 엔진오일 서비스...</td>\n",
       "    </tr>\n",
       "  </tbody>\n",
       "</table>\n",
       "</div>"
      ],
      "text/plain": [
       "                제작자              차명    생산기간(부터)    생산기간(까지)       리콜개시일  \\\n",
       "303       대전기계공업(주)            W800  2019-02-21  2022-02-10  2022-03-28   \n",
       "304       대전기계공업(주)            W800  2019-02-21  2022-02-10  2022-03-28   \n",
       "392   메르세데스벤츠코리아(주)           A 220  2021-09-16  2021-09-16  2022-04-08   \n",
       "393   메르세데스벤츠코리아(주)           A 220  2021-09-16  2021-09-16  2022-04-08   \n",
       "527   (주)재규어랜드로버코리아  레인지로버 이보크 2.0D  2015-05-14  2017-07-27  2022-05-02   \n",
       "528   (주)재규어랜드로버코리아  레인지로버 이보크 2.0D  2015-05-14  2017-07-27  2022-05-02   \n",
       "1144   스카니아코리아그룹(주)          스카니아카고  2021-02-15  2021-02-16  2022-10-11   \n",
       "1145   스카니아코리아그룹(주)          스카니아카고  2021-02-15  2021-02-16  2022-10-11   \n",
       "1216  (주)재규어랜드로버코리아  레인지로버 이보크 2.0D  2015-05-14  2017-07-27  2022-11-01   \n",
       "1217  (주)재규어랜드로버코리아  레인지로버 이보크 2.0D  2015-05-14  2017-07-27  2022-11-01   \n",
       "\n",
       "                                                   리콜사유  \n",
       "303   경음기에 전기 배선을 연결하는 단자의 내구성 부족으로 주행 중 특정한 엔진 회전 영...  \n",
       "304   경음기에 전기 배선을 연결하는 단자의 내구성 부족으로 주행 중 특정한 엔진 회전 영...  \n",
       "392   비상 통신 시스템(eCall)을 위한 통신 모듈 소프트웨어가 사양에 맞지 않아 차량...  \n",
       "393   비상 통신 시스템(eCall)을 위한 통신 모듈 소프트웨어가 사양에 맞지 않아 차량...  \n",
       "527   엔진오일오염도 증가에 따른 엔진오일펌프, 타이밍체인의 마모 및 파손 엔진오일 서비스...  \n",
       "528   엔진오일오염도 증가에 따른 엔진오일펌프, 타이밍체인의 마모 및 파손 엔진오일 서비스...  \n",
       "1144         타이로드 끝 부분에 슬롯이 없는 타이로드가 장착되어 있을 가능성이 있습니다.  \n",
       "1145         타이로드 끝 부분에 슬롯이 없는 타이로드가 장착되어 있을 가능성이 있습니다.  \n",
       "1216  엔진오일오염도 증가에 따른 엔진오일펌프, 타이밍체인의 마모 및 파손 엔진오일 서비스...  \n",
       "1217  엔진오일오염도 증가에 따른 엔진오일펌프, 타이밍체인의 마모 및 파손 엔진오일 서비스...  "
      ]
     },
     "execution_count": 243,
     "metadata": {},
     "output_type": "execute_result"
    }
   ],
   "source": [
    "df[df.duplicated(keep=False)]"
   ]
  },
  {
   "attachments": {},
   "cell_type": "markdown",
   "metadata": {},
   "source": [
    "`drop_duplicates()` 함수를 이용하여 중복값을 제거합니다."
   ]
  },
  {
   "cell_type": "code",
   "execution_count": 244,
   "metadata": {
    "execution": {
     "iopub.execute_input": "2021-07-14T07:49:26.230857Z",
     "iopub.status.busy": "2021-07-14T07:49:26.230464Z",
     "iopub.status.idle": "2021-07-14T07:49:26.243305Z",
     "shell.execute_reply": "2021-07-14T07:49:26.241938Z",
     "shell.execute_reply.started": "2021-07-14T07:49:26.230821Z"
    }
   },
   "outputs": [
    {
     "name": "stdout",
     "output_type": "stream",
     "text": [
      "Before: 1419\n",
      "After: 1414\n"
     ]
    }
   ],
   "source": [
    "print(\"Before:\", len(df))\n",
    "df = df.drop_duplicates()\n",
    "print(\"After:\", len(df))"
   ]
  },
  {
   "attachments": {},
   "cell_type": "markdown",
   "metadata": {},
   "source": [
    "### 2.3. 기초적인 데이터 변형"
   ]
  },
  {
   "cell_type": "code",
   "execution_count": 245,
   "metadata": {},
   "outputs": [
    {
     "name": "stdout",
     "output_type": "stream",
     "text": [
      "<class 'pandas.core.frame.DataFrame'>\n",
      "Index: 1414 entries, 0 to 1418\n",
      "Data columns (total 6 columns):\n",
      " #   Column    Non-Null Count  Dtype \n",
      "---  ------    --------------  ----- \n",
      " 0   제작자       1414 non-null   object\n",
      " 1   차명        1414 non-null   object\n",
      " 2   생산기간(부터)  1414 non-null   object\n",
      " 3   생산기간(까지)  1414 non-null   object\n",
      " 4   리콜개시일     1414 non-null   object\n",
      " 5   리콜사유      1414 non-null   object\n",
      "dtypes: object(6)\n",
      "memory usage: 77.3+ KB\n"
     ]
    }
   ],
   "source": [
    "df.info()"
   ]
  },
  {
   "cell_type": "code",
   "execution_count": 246,
   "metadata": {},
   "outputs": [
    {
     "data": {
      "text/plain": [
       "0       2021-04-29\n",
       "1       2014-11-17\n",
       "2       2014-11-05\n",
       "3       2011-02-28\n",
       "4       2014-12-19\n",
       "           ...    \n",
       "1414    2021-11-22\n",
       "1415    2021-11-23\n",
       "1416    2020-02-11\n",
       "1417    2019-10-28\n",
       "1418    2019-08-02\n",
       "Name: 생산기간(부터), Length: 1414, dtype: object"
      ]
     },
     "execution_count": 246,
     "metadata": {},
     "output_type": "execute_result"
    }
   ],
   "source": [
    "df['생산기간(부터)']"
   ]
  },
  {
   "cell_type": "code",
   "execution_count": 247,
   "metadata": {},
   "outputs": [
    {
     "data": {
      "text/plain": [
       "0      2021-04-29\n",
       "1      2014-11-17\n",
       "2      2014-11-05\n",
       "3      2011-02-28\n",
       "4      2014-12-19\n",
       "          ...    \n",
       "1414   2021-11-22\n",
       "1415   2021-11-23\n",
       "1416   2020-02-11\n",
       "1417   2019-10-28\n",
       "1418   2019-08-02\n",
       "Name: 생산기간(부터), Length: 1414, dtype: datetime64[ns]"
      ]
     },
     "execution_count": 247,
     "metadata": {},
     "output_type": "execute_result"
    }
   ],
   "source": [
    "# 생산기간(부터) 컬럼을 종료_년, 종료_월, 종료_일 컬럼으로 분해\n",
    "pd.to_datetime(df['생산기간(부터)'])\n",
    "\n"
   ]
  },
  {
   "cell_type": "code",
   "execution_count": 248,
   "metadata": {},
   "outputs": [],
   "source": [
    "df['생산기간(부터)'] = pd.to_datetime(df['생산기간(부터)'])"
   ]
  },
  {
   "cell_type": "code",
   "execution_count": 249,
   "metadata": {},
   "outputs": [
    {
     "data": {
      "text/plain": [
       "0      2021-04-29\n",
       "1      2014-11-17\n",
       "2      2014-11-05\n",
       "3      2011-02-28\n",
       "4      2014-12-19\n",
       "          ...    \n",
       "1414   2021-11-22\n",
       "1415   2021-11-23\n",
       "1416   2020-02-11\n",
       "1417   2019-10-28\n",
       "1418   2019-08-02\n",
       "Name: 생산기간(부터), Length: 1414, dtype: datetime64[ns]"
      ]
     },
     "execution_count": 249,
     "metadata": {},
     "output_type": "execute_result"
    }
   ],
   "source": [
    "df['생산기간(부터)']"
   ]
  },
  {
   "cell_type": "code",
   "execution_count": 250,
   "metadata": {},
   "outputs": [
    {
     "name": "stdout",
     "output_type": "stream",
     "text": [
      "<class 'pandas.core.frame.DataFrame'>\n",
      "Index: 1414 entries, 0 to 1418\n",
      "Data columns (total 6 columns):\n",
      " #   Column    Non-Null Count  Dtype         \n",
      "---  ------    --------------  -----         \n",
      " 0   제작자       1414 non-null   object        \n",
      " 1   차명        1414 non-null   object        \n",
      " 2   생산기간(부터)  1414 non-null   datetime64[ns]\n",
      " 3   생산기간(까지)  1414 non-null   object        \n",
      " 4   리콜개시일     1414 non-null   object        \n",
      " 5   리콜사유      1414 non-null   object        \n",
      "dtypes: datetime64[ns](1), object(5)\n",
      "memory usage: 77.3+ KB\n"
     ]
    }
   ],
   "source": [
    "df.info()"
   ]
  },
  {
   "cell_type": "code",
   "execution_count": 251,
   "metadata": {},
   "outputs": [],
   "source": [
    "df['생산기간(부터)'] = pd.to_datetime(df['생산기간(부터)'])\n",
    "df['생산_년'] = df['생산기간(부터)'].dt.year\n",
    "df['생산_월'] = df['생산기간(부터)'].dt.month\n",
    "df['생산_일'] = df['생산기간(부터)'].dt.day"
   ]
  },
  {
   "cell_type": "code",
   "execution_count": 252,
   "metadata": {},
   "outputs": [
    {
     "data": {
      "text/html": [
       "<div>\n",
       "<style scoped>\n",
       "    .dataframe tbody tr th:only-of-type {\n",
       "        vertical-align: middle;\n",
       "    }\n",
       "\n",
       "    .dataframe tbody tr th {\n",
       "        vertical-align: top;\n",
       "    }\n",
       "\n",
       "    .dataframe thead th {\n",
       "        text-align: right;\n",
       "    }\n",
       "</style>\n",
       "<table border=\"1\" class=\"dataframe\">\n",
       "  <thead>\n",
       "    <tr style=\"text-align: right;\">\n",
       "      <th></th>\n",
       "      <th>제작자</th>\n",
       "      <th>차명</th>\n",
       "      <th>생산기간(부터)</th>\n",
       "      <th>생산기간(까지)</th>\n",
       "      <th>리콜개시일</th>\n",
       "      <th>리콜사유</th>\n",
       "      <th>생산_년</th>\n",
       "      <th>생산_월</th>\n",
       "      <th>생산_일</th>\n",
       "    </tr>\n",
       "  </thead>\n",
       "  <tbody>\n",
       "    <tr>\n",
       "      <th>0</th>\n",
       "      <td>혼다코리아(주)</td>\n",
       "      <td>CBR1000RR-R</td>\n",
       "      <td>2021-04-29</td>\n",
       "      <td>2021-05-12</td>\n",
       "      <td>2022-01-03</td>\n",
       "      <td>제작 공정 중 라디에이터 캡의 제조 불량으로 라디에이터 캡과 필러넥이 제대로 밀착되...</td>\n",
       "      <td>2021</td>\n",
       "      <td>4</td>\n",
       "      <td>29</td>\n",
       "    </tr>\n",
       "    <tr>\n",
       "      <th>1</th>\n",
       "      <td>폭스바겐그룹코리아 주식회사</td>\n",
       "      <td>Polo 5 FL 1.4 TDI BMT</td>\n",
       "      <td>2014-11-17</td>\n",
       "      <td>2014-11-25</td>\n",
       "      <td>2022-01-05</td>\n",
       "      <td>특정 기간 내에 특정 공급 업체(이드낙)의 생산 공정 불량으로 인해, 메카트로닉스 ...</td>\n",
       "      <td>2014</td>\n",
       "      <td>11</td>\n",
       "      <td>17</td>\n",
       "    </tr>\n",
       "    <tr>\n",
       "      <th>2</th>\n",
       "      <td>폭스바겐그룹코리아 주식회사</td>\n",
       "      <td>Jetta 6 FL 2.0 TDI 110PS</td>\n",
       "      <td>2014-11-05</td>\n",
       "      <td>2015-02-26</td>\n",
       "      <td>2022-01-05</td>\n",
       "      <td>특정 기간 내에 특정 공급 업체(이드낙)의 생산 공정 불량으로 인해, 메카트로닉스 ...</td>\n",
       "      <td>2014</td>\n",
       "      <td>11</td>\n",
       "      <td>5</td>\n",
       "    </tr>\n",
       "  </tbody>\n",
       "</table>\n",
       "</div>"
      ],
      "text/plain": [
       "              제작자                        차명   생산기간(부터)    생산기간(까지)  \\\n",
       "0        혼다코리아(주)               CBR1000RR-R 2021-04-29  2021-05-12   \n",
       "1  폭스바겐그룹코리아 주식회사     Polo 5 FL 1.4 TDI BMT 2014-11-17  2014-11-25   \n",
       "2  폭스바겐그룹코리아 주식회사  Jetta 6 FL 2.0 TDI 110PS 2014-11-05  2015-02-26   \n",
       "\n",
       "        리콜개시일                                               리콜사유  생산_년  생산_월  \\\n",
       "0  2022-01-03  제작 공정 중 라디에이터 캡의 제조 불량으로 라디에이터 캡과 필러넥이 제대로 밀착되...  2021     4   \n",
       "1  2022-01-05  특정 기간 내에 특정 공급 업체(이드낙)의 생산 공정 불량으로 인해, 메카트로닉스 ...  2014    11   \n",
       "2  2022-01-05  특정 기간 내에 특정 공급 업체(이드낙)의 생산 공정 불량으로 인해, 메카트로닉스 ...  2014    11   \n",
       "\n",
       "   생산_일  \n",
       "0    29  \n",
       "1    17  \n",
       "2     5  "
      ]
     },
     "execution_count": 252,
     "metadata": {},
     "output_type": "execute_result"
    }
   ],
   "source": [
    "df.head(3)"
   ]
  },
  {
   "cell_type": "code",
   "execution_count": 253,
   "metadata": {},
   "outputs": [],
   "source": [
    "# 생산기간(까지) 컬럼을 종료_년, 종료_월, 종료_일 컬럼으로 분해\n",
    "df['생산기간(까지)'] = pd.to_datetime(df['생산기간(까지)'])\n",
    "df['종료_년'] = df['생산기간(까지)'].dt.year\n",
    "df['종료_월'] = df['생산기간(까지)'].dt.month\n",
    "df['종료_일'] = df['생산기간(까지)'].dt.day\n",
    "\n",
    "\n",
    "\n",
    "# 리콜개시일 컬럼을 리콜_년, 리콜_월, 리콜_일 컬럼으로 분해\n",
    "df['리콜개시일'] = pd.to_datetime(df['리콜개시일'])\n",
    "df['리콜_년'] = df['리콜개시일'].dt.year\n",
    "df['리콜_월'] = df['리콜개시일'].dt.month\n",
    "df['리콜_일'] = df['리콜개시일'].dt.day\n",
    "\n",
    "\n"
   ]
  },
  {
   "cell_type": "code",
   "execution_count": 254,
   "metadata": {},
   "outputs": [
    {
     "name": "stdout",
     "output_type": "stream",
     "text": [
      "<class 'pandas.core.frame.DataFrame'>\n",
      "Index: 1414 entries, 0 to 1418\n",
      "Data columns (total 15 columns):\n",
      " #   Column    Non-Null Count  Dtype         \n",
      "---  ------    --------------  -----         \n",
      " 0   제작자       1414 non-null   object        \n",
      " 1   차명        1414 non-null   object        \n",
      " 2   생산기간(부터)  1414 non-null   datetime64[ns]\n",
      " 3   생산기간(까지)  1414 non-null   datetime64[ns]\n",
      " 4   리콜개시일     1414 non-null   datetime64[ns]\n",
      " 5   리콜사유      1414 non-null   object        \n",
      " 6   생산_년      1414 non-null   int32         \n",
      " 7   생산_월      1414 non-null   int32         \n",
      " 8   생산_일      1414 non-null   int32         \n",
      " 9   종료_년      1414 non-null   int32         \n",
      " 10  종료_월      1414 non-null   int32         \n",
      " 11  종료_일      1414 non-null   int32         \n",
      " 12  리콜_년      1414 non-null   int32         \n",
      " 13  리콜_월      1414 non-null   int32         \n",
      " 14  리콜_일      1414 non-null   int32         \n",
      "dtypes: datetime64[ns](3), int32(9), object(3)\n",
      "memory usage: 127.0+ KB\n"
     ]
    }
   ],
   "source": [
    "df.info()"
   ]
  },
  {
   "cell_type": "code",
   "execution_count": 255,
   "metadata": {
    "execution": {
     "iopub.execute_input": "2021-07-14T07:49:26.290354Z",
     "iopub.status.busy": "2021-07-14T07:49:26.290046Z",
     "iopub.status.idle": "2021-07-14T07:49:26.310819Z",
     "shell.execute_reply": "2021-07-14T07:49:26.309651Z",
     "shell.execute_reply.started": "2021-07-14T07:49:26.290326Z"
    }
   },
   "outputs": [],
   "source": [
    "# 불필요한 열은 버림('생산기간(부터)', '생산기간(까지)', '리콜개시일')\n",
    "# columns_to_drop = ['생산기간(부터)', '생산기간(까지)', '리콜개시일']\n",
    "# df.drop(columns=columns_to_drop, inplace=True)\n",
    "\n",
    "df.drop(columns = ['생산기간(부터)', '생산기간(까지)', '리콜개시일'], inplace=True )\n"
   ]
  },
  {
   "cell_type": "code",
   "execution_count": 256,
   "metadata": {},
   "outputs": [
    {
     "name": "stdout",
     "output_type": "stream",
     "text": [
      "<class 'pandas.core.frame.DataFrame'>\n",
      "Index: 1414 entries, 0 to 1418\n",
      "Data columns (total 12 columns):\n",
      " #   Column  Non-Null Count  Dtype \n",
      "---  ------  --------------  ----- \n",
      " 0   제작자     1414 non-null   object\n",
      " 1   차명      1414 non-null   object\n",
      " 2   리콜사유    1414 non-null   object\n",
      " 3   생산_년    1414 non-null   int32 \n",
      " 4   생산_월    1414 non-null   int32 \n",
      " 5   생산_일    1414 non-null   int32 \n",
      " 6   종료_년    1414 non-null   int32 \n",
      " 7   종료_월    1414 non-null   int32 \n",
      " 8   종료_일    1414 non-null   int32 \n",
      " 9   리콜_년    1414 non-null   int32 \n",
      " 10  리콜_월    1414 non-null   int32 \n",
      " 11  리콜_일    1414 non-null   int32 \n",
      "dtypes: int32(9), object(3)\n",
      "memory usage: 93.9+ KB\n"
     ]
    }
   ],
   "source": [
    "df.info()"
   ]
  },
  {
   "attachments": {},
   "cell_type": "markdown",
   "metadata": {},
   "source": [
    "본 분석에서는 2022년의 데이터만을 대상으로하므로, 그 외의 데이터가 있다면 삭제해주겠습니다."
   ]
  },
  {
   "cell_type": "code",
   "execution_count": 257,
   "metadata": {},
   "outputs": [
    {
     "data": {
      "text/plain": [
       "array([2022])"
      ]
     },
     "execution_count": 257,
     "metadata": {},
     "output_type": "execute_result"
    }
   ],
   "source": [
    "# 리콜_년 피처에 2022년만 있는지 체크\n",
    "df['리콜_년'].unique()"
   ]
  },
  {
   "cell_type": "code",
   "execution_count": 258,
   "metadata": {},
   "outputs": [
    {
     "data": {
      "text/plain": [
       "리콜_년\n",
       "2022    1414\n",
       "Name: count, dtype: int64"
      ]
     },
     "execution_count": 258,
     "metadata": {},
     "output_type": "execute_result"
    }
   ],
   "source": [
    "df['리콜_년'].value_counts()"
   ]
  },
  {
   "attachments": {},
   "cell_type": "markdown",
   "metadata": {},
   "source": [
    "---"
   ]
  },
  {
   "attachments": {},
   "cell_type": "markdown",
   "metadata": {},
   "source": [
    "## 3. 데이터 시각화"
   ]
  },
  {
   "attachments": {},
   "cell_type": "markdown",
   "metadata": {},
   "source": [
    "각 column의 변수별로 어떠한 데이터 분포를 하고 있는지 시각화를 통하여 알아봅시다."
   ]
  },
  {
   "cell_type": "code",
   "execution_count": 259,
   "metadata": {},
   "outputs": [
    {
     "data": {
      "text/html": [
       "<div>\n",
       "<style scoped>\n",
       "    .dataframe tbody tr th:only-of-type {\n",
       "        vertical-align: middle;\n",
       "    }\n",
       "\n",
       "    .dataframe tbody tr th {\n",
       "        vertical-align: top;\n",
       "    }\n",
       "\n",
       "    .dataframe thead th {\n",
       "        text-align: right;\n",
       "    }\n",
       "</style>\n",
       "<table border=\"1\" class=\"dataframe\">\n",
       "  <thead>\n",
       "    <tr style=\"text-align: right;\">\n",
       "      <th></th>\n",
       "      <th>제작자</th>\n",
       "      <th>차명</th>\n",
       "      <th>리콜사유</th>\n",
       "      <th>생산_년</th>\n",
       "      <th>생산_월</th>\n",
       "      <th>생산_일</th>\n",
       "      <th>종료_년</th>\n",
       "      <th>종료_월</th>\n",
       "      <th>종료_일</th>\n",
       "      <th>리콜_년</th>\n",
       "      <th>리콜_월</th>\n",
       "      <th>리콜_일</th>\n",
       "    </tr>\n",
       "  </thead>\n",
       "  <tbody>\n",
       "    <tr>\n",
       "      <th>0</th>\n",
       "      <td>혼다코리아(주)</td>\n",
       "      <td>CBR1000RR-R</td>\n",
       "      <td>제작 공정 중 라디에이터 캡의 제조 불량으로 라디에이터 캡과 필러넥이 제대로 밀착되...</td>\n",
       "      <td>2021</td>\n",
       "      <td>4</td>\n",
       "      <td>29</td>\n",
       "      <td>2021</td>\n",
       "      <td>5</td>\n",
       "      <td>12</td>\n",
       "      <td>2022</td>\n",
       "      <td>1</td>\n",
       "      <td>3</td>\n",
       "    </tr>\n",
       "    <tr>\n",
       "      <th>1</th>\n",
       "      <td>폭스바겐그룹코리아 주식회사</td>\n",
       "      <td>Polo 5 FL 1.4 TDI BMT</td>\n",
       "      <td>특정 기간 내에 특정 공급 업체(이드낙)의 생산 공정 불량으로 인해, 메카트로닉스 ...</td>\n",
       "      <td>2014</td>\n",
       "      <td>11</td>\n",
       "      <td>17</td>\n",
       "      <td>2014</td>\n",
       "      <td>11</td>\n",
       "      <td>25</td>\n",
       "      <td>2022</td>\n",
       "      <td>1</td>\n",
       "      <td>5</td>\n",
       "    </tr>\n",
       "    <tr>\n",
       "      <th>2</th>\n",
       "      <td>폭스바겐그룹코리아 주식회사</td>\n",
       "      <td>Jetta 6 FL 2.0 TDI 110PS</td>\n",
       "      <td>특정 기간 내에 특정 공급 업체(이드낙)의 생산 공정 불량으로 인해, 메카트로닉스 ...</td>\n",
       "      <td>2014</td>\n",
       "      <td>11</td>\n",
       "      <td>5</td>\n",
       "      <td>2015</td>\n",
       "      <td>2</td>\n",
       "      <td>26</td>\n",
       "      <td>2022</td>\n",
       "      <td>1</td>\n",
       "      <td>5</td>\n",
       "    </tr>\n",
       "    <tr>\n",
       "      <th>3</th>\n",
       "      <td>폭스바겐그룹코리아 주식회사</td>\n",
       "      <td>Jetta 1.6 TDI BMT</td>\n",
       "      <td>특정 기간 내에 특정 공급 업체(이드낙)의 생산 공정 불량으로 인해, 메카트로닉스 ...</td>\n",
       "      <td>2011</td>\n",
       "      <td>2</td>\n",
       "      <td>28</td>\n",
       "      <td>2012</td>\n",
       "      <td>9</td>\n",
       "      <td>25</td>\n",
       "      <td>2022</td>\n",
       "      <td>1</td>\n",
       "      <td>5</td>\n",
       "    </tr>\n",
       "    <tr>\n",
       "      <th>4</th>\n",
       "      <td>폭스바겐그룹코리아 주식회사</td>\n",
       "      <td>Golf A7 1.6 TDI BMT</td>\n",
       "      <td>특정 기간 내에 특정 공급 업체(이드낙)의 생산 공정 불량으로 인해, 메카트로닉스 ...</td>\n",
       "      <td>2014</td>\n",
       "      <td>12</td>\n",
       "      <td>19</td>\n",
       "      <td>2015</td>\n",
       "      <td>2</td>\n",
       "      <td>26</td>\n",
       "      <td>2022</td>\n",
       "      <td>1</td>\n",
       "      <td>5</td>\n",
       "    </tr>\n",
       "  </tbody>\n",
       "</table>\n",
       "</div>"
      ],
      "text/plain": [
       "              제작자                        차명  \\\n",
       "0        혼다코리아(주)               CBR1000RR-R   \n",
       "1  폭스바겐그룹코리아 주식회사     Polo 5 FL 1.4 TDI BMT   \n",
       "2  폭스바겐그룹코리아 주식회사  Jetta 6 FL 2.0 TDI 110PS   \n",
       "3  폭스바겐그룹코리아 주식회사         Jetta 1.6 TDI BMT   \n",
       "4  폭스바겐그룹코리아 주식회사       Golf A7 1.6 TDI BMT   \n",
       "\n",
       "                                                리콜사유  생산_년  생산_월  생산_일  종료_년  \\\n",
       "0  제작 공정 중 라디에이터 캡의 제조 불량으로 라디에이터 캡과 필러넥이 제대로 밀착되...  2021     4    29  2021   \n",
       "1  특정 기간 내에 특정 공급 업체(이드낙)의 생산 공정 불량으로 인해, 메카트로닉스 ...  2014    11    17  2014   \n",
       "2  특정 기간 내에 특정 공급 업체(이드낙)의 생산 공정 불량으로 인해, 메카트로닉스 ...  2014    11     5  2015   \n",
       "3  특정 기간 내에 특정 공급 업체(이드낙)의 생산 공정 불량으로 인해, 메카트로닉스 ...  2011     2    28  2012   \n",
       "4  특정 기간 내에 특정 공급 업체(이드낙)의 생산 공정 불량으로 인해, 메카트로닉스 ...  2014    12    19  2015   \n",
       "\n",
       "   종료_월  종료_일  리콜_년  리콜_월  리콜_일  \n",
       "0     5    12  2022     1     3  \n",
       "1    11    25  2022     1     5  \n",
       "2     2    26  2022     1     5  \n",
       "3     9    25  2022     1     5  \n",
       "4     2    26  2022     1     5  "
      ]
     },
     "execution_count": 259,
     "metadata": {},
     "output_type": "execute_result"
    }
   ],
   "source": [
    "df.head()"
   ]
  },
  {
   "attachments": {},
   "cell_type": "markdown",
   "metadata": {},
   "source": [
    "### 3.1. 제조사별 리콜 현황 출력"
   ]
  },
  {
   "attachments": {},
   "cell_type": "markdown",
   "metadata": {},
   "source": [
    "제조사별 리콜 건수 분포를 막대 그래프로 확인해보겠습니다."
   ]
  },
  {
   "cell_type": "code",
   "execution_count": 260,
   "metadata": {},
   "outputs": [
    {
     "data": {
      "text/plain": [
       "array(['혼다코리아(주)', '폭스바겐그룹코리아 주식회사', '메르세데스벤츠코리아(주)', '비엠더블유코리아(주)',\n",
       "       '만트럭버스코리아(주)', '포르쉐코리아 주식회사', '주식회사 마이브', '현대자동차(주)',\n",
       "       '테슬라코리아 유한회사', '스텔란티스코리아주식회사', '화창상사(주)', '범한자동차 주식회사', '기아주식회사',\n",
       "       '(유)기흥모터스', '르노코리아자동차 주식회사', '(주) 한국모터트레이딩', '포드세일즈서비스코리아(유)',\n",
       "       '(주) 바이크코리아', '다임러트럭코리아(주)', '대전기계공업(주)', '(주)에프엠케이',\n",
       "       '기흥인터내셔널 유한회사', '(주)재규어랜드로버코리아', '(주)피라인', '한국토요타자동차(주)',\n",
       "       '볼보트럭코리아(주)', '(주)볼보자동차코리아', '지엠코리아(주)', '(주)다산중공업', '한국지엠(주)',\n",
       "       '폴스타오토모티브코리아 유한회사', '모토스타코리아(주)', '스카니아코리아그룹(주)', '유한회사 모토로싸',\n",
       "       '한신특장', '(주)스포츠모터사이클코리아'], dtype=object)"
      ]
     },
     "execution_count": 260,
     "metadata": {},
     "output_type": "execute_result"
    }
   ],
   "source": [
    "# 데이터의 class가 몇개 인지 알아보는 방법\n",
    "df['제작자'].unique()"
   ]
  },
  {
   "cell_type": "code",
   "execution_count": 261,
   "metadata": {
    "execution": {
     "iopub.execute_input": "2021-07-14T07:49:26.312479Z",
     "iopub.status.busy": "2021-07-14T07:49:26.312134Z",
     "iopub.status.idle": "2021-07-14T07:49:26.330695Z",
     "shell.execute_reply": "2021-07-14T07:49:26.329328Z",
     "shell.execute_reply.started": "2021-07-14T07:49:26.312446Z"
    }
   },
   "outputs": [
    {
     "data": {
      "text/plain": [
       "36"
      ]
     },
     "execution_count": 261,
     "metadata": {},
     "output_type": "execute_result"
    }
   ],
   "source": [
    "df['제작자'].nunique()"
   ]
  },
  {
   "cell_type": "code",
   "execution_count": 262,
   "metadata": {},
   "outputs": [
    {
     "data": {
      "text/plain": [
       "제작자\n",
       "비엠더블유코리아(주)         432\n",
       "메르세데스벤츠코리아(주)       329\n",
       "폭스바겐그룹코리아 주식회사      216\n",
       "현대자동차(주)             61\n",
       "만트럭버스코리아(주)          41\n",
       "기아주식회사               38\n",
       "포드세일즈서비스코리아(유)       37\n",
       "(주)에프엠케이             31\n",
       "스텔란티스코리아주식회사         31\n",
       "(주)재규어랜드로버코리아        24\n",
       "(유)기흥모터스             21\n",
       "테슬라코리아 유한회사          20\n",
       "포르쉐코리아 주식회사          20\n",
       "화창상사(주)              16\n",
       "혼다코리아(주)             15\n",
       "(주)볼보자동차코리아          13\n",
       "스카니아코리아그룹(주)          9\n",
       "다임러트럭코리아(주)           9\n",
       "르노코리아자동차 주식회사         7\n",
       "(주)피라인                5\n",
       "한국토요타자동차(주)           5\n",
       "지엠코리아(주)              4\n",
       "범한자동차 주식회사            4\n",
       "볼보트럭코리아(주)            4\n",
       "한국지엠(주)               3\n",
       "대전기계공업(주)             3\n",
       "(주) 바이크코리아            3\n",
       "(주) 한국모터트레이딩          3\n",
       "(주)다산중공업              2\n",
       "모토스타코리아(주)            2\n",
       "기흥인터내셔널 유한회사          1\n",
       "폴스타오토모티브코리아 유한회사      1\n",
       "주식회사 마이브              1\n",
       "유한회사 모토로싸             1\n",
       "한신특장                  1\n",
       "(주)스포츠모터사이클코리아        1\n",
       "Name: count, dtype: int64"
      ]
     },
     "execution_count": 262,
     "metadata": {},
     "output_type": "execute_result"
    }
   ],
   "source": [
    "df['제작자'].value_counts()"
   ]
  },
  {
   "cell_type": "code",
   "execution_count": 268,
   "metadata": {},
   "outputs": [
    {
     "data": {
      "text/html": [
       "<div>\n",
       "<style scoped>\n",
       "    .dataframe tbody tr th:only-of-type {\n",
       "        vertical-align: middle;\n",
       "    }\n",
       "\n",
       "    .dataframe tbody tr th {\n",
       "        vertical-align: top;\n",
       "    }\n",
       "\n",
       "    .dataframe thead th {\n",
       "        text-align: right;\n",
       "    }\n",
       "</style>\n",
       "<table border=\"1\" class=\"dataframe\">\n",
       "  <thead>\n",
       "    <tr style=\"text-align: right;\">\n",
       "      <th></th>\n",
       "      <th>count</th>\n",
       "    </tr>\n",
       "    <tr>\n",
       "      <th>제작자</th>\n",
       "      <th></th>\n",
       "    </tr>\n",
       "  </thead>\n",
       "  <tbody>\n",
       "    <tr>\n",
       "      <th>비엠더블유코리아(주)</th>\n",
       "      <td>432</td>\n",
       "    </tr>\n",
       "    <tr>\n",
       "      <th>메르세데스벤츠코리아(주)</th>\n",
       "      <td>329</td>\n",
       "    </tr>\n",
       "    <tr>\n",
       "      <th>폭스바겐그룹코리아 주식회사</th>\n",
       "      <td>216</td>\n",
       "    </tr>\n",
       "    <tr>\n",
       "      <th>현대자동차(주)</th>\n",
       "      <td>61</td>\n",
       "    </tr>\n",
       "    <tr>\n",
       "      <th>만트럭버스코리아(주)</th>\n",
       "      <td>41</td>\n",
       "    </tr>\n",
       "  </tbody>\n",
       "</table>\n",
       "</div>"
      ],
      "text/plain": [
       "                count\n",
       "제작자                  \n",
       "비엠더블유코리아(주)       432\n",
       "메르세데스벤츠코리아(주)     329\n",
       "폭스바겐그룹코리아 주식회사    216\n",
       "현대자동차(주)           61\n",
       "만트럭버스코리아(주)        41"
      ]
     },
     "execution_count": 268,
     "metadata": {},
     "output_type": "execute_result"
    }
   ],
   "source": [
    "tmp = df.groupby('제작자').size().sort_values(ascending=False).to_frame('count')\n",
    "tmp.head()"
   ]
  },
  {
   "cell_type": "code",
   "execution_count": 266,
   "metadata": {},
   "outputs": [
    {
     "data": {
      "text/html": [
       "<div>\n",
       "<style scoped>\n",
       "    .dataframe tbody tr th:only-of-type {\n",
       "        vertical-align: middle;\n",
       "    }\n",
       "\n",
       "    .dataframe tbody tr th {\n",
       "        vertical-align: top;\n",
       "    }\n",
       "\n",
       "    .dataframe thead th {\n",
       "        text-align: right;\n",
       "    }\n",
       "</style>\n",
       "<table border=\"1\" class=\"dataframe\">\n",
       "  <thead>\n",
       "    <tr style=\"text-align: right;\">\n",
       "      <th></th>\n",
       "      <th>차명</th>\n",
       "      <th>리콜사유</th>\n",
       "      <th>생산_년</th>\n",
       "      <th>생산_월</th>\n",
       "      <th>생산_일</th>\n",
       "      <th>종료_년</th>\n",
       "      <th>종료_월</th>\n",
       "      <th>종료_일</th>\n",
       "      <th>리콜_년</th>\n",
       "      <th>리콜_월</th>\n",
       "      <th>리콜_일</th>\n",
       "    </tr>\n",
       "    <tr>\n",
       "      <th>제작자</th>\n",
       "      <th></th>\n",
       "      <th></th>\n",
       "      <th></th>\n",
       "      <th></th>\n",
       "      <th></th>\n",
       "      <th></th>\n",
       "      <th></th>\n",
       "      <th></th>\n",
       "      <th></th>\n",
       "      <th></th>\n",
       "      <th></th>\n",
       "    </tr>\n",
       "  </thead>\n",
       "  <tbody>\n",
       "    <tr>\n",
       "      <th>(유)기흥모터스</th>\n",
       "      <td>21</td>\n",
       "      <td>21</td>\n",
       "      <td>21</td>\n",
       "      <td>21</td>\n",
       "      <td>21</td>\n",
       "      <td>21</td>\n",
       "      <td>21</td>\n",
       "      <td>21</td>\n",
       "      <td>21</td>\n",
       "      <td>21</td>\n",
       "      <td>21</td>\n",
       "    </tr>\n",
       "    <tr>\n",
       "      <th>(주) 바이크코리아</th>\n",
       "      <td>3</td>\n",
       "      <td>3</td>\n",
       "      <td>3</td>\n",
       "      <td>3</td>\n",
       "      <td>3</td>\n",
       "      <td>3</td>\n",
       "      <td>3</td>\n",
       "      <td>3</td>\n",
       "      <td>3</td>\n",
       "      <td>3</td>\n",
       "      <td>3</td>\n",
       "    </tr>\n",
       "    <tr>\n",
       "      <th>(주) 한국모터트레이딩</th>\n",
       "      <td>3</td>\n",
       "      <td>3</td>\n",
       "      <td>3</td>\n",
       "      <td>3</td>\n",
       "      <td>3</td>\n",
       "      <td>3</td>\n",
       "      <td>3</td>\n",
       "      <td>3</td>\n",
       "      <td>3</td>\n",
       "      <td>3</td>\n",
       "      <td>3</td>\n",
       "    </tr>\n",
       "    <tr>\n",
       "      <th>(주)다산중공업</th>\n",
       "      <td>2</td>\n",
       "      <td>2</td>\n",
       "      <td>2</td>\n",
       "      <td>2</td>\n",
       "      <td>2</td>\n",
       "      <td>2</td>\n",
       "      <td>2</td>\n",
       "      <td>2</td>\n",
       "      <td>2</td>\n",
       "      <td>2</td>\n",
       "      <td>2</td>\n",
       "    </tr>\n",
       "    <tr>\n",
       "      <th>(주)볼보자동차코리아</th>\n",
       "      <td>13</td>\n",
       "      <td>13</td>\n",
       "      <td>13</td>\n",
       "      <td>13</td>\n",
       "      <td>13</td>\n",
       "      <td>13</td>\n",
       "      <td>13</td>\n",
       "      <td>13</td>\n",
       "      <td>13</td>\n",
       "      <td>13</td>\n",
       "      <td>13</td>\n",
       "    </tr>\n",
       "    <tr>\n",
       "      <th>(주)스포츠모터사이클코리아</th>\n",
       "      <td>1</td>\n",
       "      <td>1</td>\n",
       "      <td>1</td>\n",
       "      <td>1</td>\n",
       "      <td>1</td>\n",
       "      <td>1</td>\n",
       "      <td>1</td>\n",
       "      <td>1</td>\n",
       "      <td>1</td>\n",
       "      <td>1</td>\n",
       "      <td>1</td>\n",
       "    </tr>\n",
       "    <tr>\n",
       "      <th>(주)에프엠케이</th>\n",
       "      <td>31</td>\n",
       "      <td>31</td>\n",
       "      <td>31</td>\n",
       "      <td>31</td>\n",
       "      <td>31</td>\n",
       "      <td>31</td>\n",
       "      <td>31</td>\n",
       "      <td>31</td>\n",
       "      <td>31</td>\n",
       "      <td>31</td>\n",
       "      <td>31</td>\n",
       "    </tr>\n",
       "    <tr>\n",
       "      <th>(주)재규어랜드로버코리아</th>\n",
       "      <td>24</td>\n",
       "      <td>24</td>\n",
       "      <td>24</td>\n",
       "      <td>24</td>\n",
       "      <td>24</td>\n",
       "      <td>24</td>\n",
       "      <td>24</td>\n",
       "      <td>24</td>\n",
       "      <td>24</td>\n",
       "      <td>24</td>\n",
       "      <td>24</td>\n",
       "    </tr>\n",
       "    <tr>\n",
       "      <th>(주)피라인</th>\n",
       "      <td>5</td>\n",
       "      <td>5</td>\n",
       "      <td>5</td>\n",
       "      <td>5</td>\n",
       "      <td>5</td>\n",
       "      <td>5</td>\n",
       "      <td>5</td>\n",
       "      <td>5</td>\n",
       "      <td>5</td>\n",
       "      <td>5</td>\n",
       "      <td>5</td>\n",
       "    </tr>\n",
       "    <tr>\n",
       "      <th>기아주식회사</th>\n",
       "      <td>38</td>\n",
       "      <td>38</td>\n",
       "      <td>38</td>\n",
       "      <td>38</td>\n",
       "      <td>38</td>\n",
       "      <td>38</td>\n",
       "      <td>38</td>\n",
       "      <td>38</td>\n",
       "      <td>38</td>\n",
       "      <td>38</td>\n",
       "      <td>38</td>\n",
       "    </tr>\n",
       "    <tr>\n",
       "      <th>기흥인터내셔널 유한회사</th>\n",
       "      <td>1</td>\n",
       "      <td>1</td>\n",
       "      <td>1</td>\n",
       "      <td>1</td>\n",
       "      <td>1</td>\n",
       "      <td>1</td>\n",
       "      <td>1</td>\n",
       "      <td>1</td>\n",
       "      <td>1</td>\n",
       "      <td>1</td>\n",
       "      <td>1</td>\n",
       "    </tr>\n",
       "    <tr>\n",
       "      <th>다임러트럭코리아(주)</th>\n",
       "      <td>9</td>\n",
       "      <td>9</td>\n",
       "      <td>9</td>\n",
       "      <td>9</td>\n",
       "      <td>9</td>\n",
       "      <td>9</td>\n",
       "      <td>9</td>\n",
       "      <td>9</td>\n",
       "      <td>9</td>\n",
       "      <td>9</td>\n",
       "      <td>9</td>\n",
       "    </tr>\n",
       "    <tr>\n",
       "      <th>대전기계공업(주)</th>\n",
       "      <td>3</td>\n",
       "      <td>3</td>\n",
       "      <td>3</td>\n",
       "      <td>3</td>\n",
       "      <td>3</td>\n",
       "      <td>3</td>\n",
       "      <td>3</td>\n",
       "      <td>3</td>\n",
       "      <td>3</td>\n",
       "      <td>3</td>\n",
       "      <td>3</td>\n",
       "    </tr>\n",
       "    <tr>\n",
       "      <th>르노코리아자동차 주식회사</th>\n",
       "      <td>7</td>\n",
       "      <td>7</td>\n",
       "      <td>7</td>\n",
       "      <td>7</td>\n",
       "      <td>7</td>\n",
       "      <td>7</td>\n",
       "      <td>7</td>\n",
       "      <td>7</td>\n",
       "      <td>7</td>\n",
       "      <td>7</td>\n",
       "      <td>7</td>\n",
       "    </tr>\n",
       "    <tr>\n",
       "      <th>만트럭버스코리아(주)</th>\n",
       "      <td>41</td>\n",
       "      <td>41</td>\n",
       "      <td>41</td>\n",
       "      <td>41</td>\n",
       "      <td>41</td>\n",
       "      <td>41</td>\n",
       "      <td>41</td>\n",
       "      <td>41</td>\n",
       "      <td>41</td>\n",
       "      <td>41</td>\n",
       "      <td>41</td>\n",
       "    </tr>\n",
       "    <tr>\n",
       "      <th>메르세데스벤츠코리아(주)</th>\n",
       "      <td>329</td>\n",
       "      <td>329</td>\n",
       "      <td>329</td>\n",
       "      <td>329</td>\n",
       "      <td>329</td>\n",
       "      <td>329</td>\n",
       "      <td>329</td>\n",
       "      <td>329</td>\n",
       "      <td>329</td>\n",
       "      <td>329</td>\n",
       "      <td>329</td>\n",
       "    </tr>\n",
       "    <tr>\n",
       "      <th>모토스타코리아(주)</th>\n",
       "      <td>2</td>\n",
       "      <td>2</td>\n",
       "      <td>2</td>\n",
       "      <td>2</td>\n",
       "      <td>2</td>\n",
       "      <td>2</td>\n",
       "      <td>2</td>\n",
       "      <td>2</td>\n",
       "      <td>2</td>\n",
       "      <td>2</td>\n",
       "      <td>2</td>\n",
       "    </tr>\n",
       "    <tr>\n",
       "      <th>범한자동차 주식회사</th>\n",
       "      <td>4</td>\n",
       "      <td>4</td>\n",
       "      <td>4</td>\n",
       "      <td>4</td>\n",
       "      <td>4</td>\n",
       "      <td>4</td>\n",
       "      <td>4</td>\n",
       "      <td>4</td>\n",
       "      <td>4</td>\n",
       "      <td>4</td>\n",
       "      <td>4</td>\n",
       "    </tr>\n",
       "    <tr>\n",
       "      <th>볼보트럭코리아(주)</th>\n",
       "      <td>4</td>\n",
       "      <td>4</td>\n",
       "      <td>4</td>\n",
       "      <td>4</td>\n",
       "      <td>4</td>\n",
       "      <td>4</td>\n",
       "      <td>4</td>\n",
       "      <td>4</td>\n",
       "      <td>4</td>\n",
       "      <td>4</td>\n",
       "      <td>4</td>\n",
       "    </tr>\n",
       "    <tr>\n",
       "      <th>비엠더블유코리아(주)</th>\n",
       "      <td>432</td>\n",
       "      <td>432</td>\n",
       "      <td>432</td>\n",
       "      <td>432</td>\n",
       "      <td>432</td>\n",
       "      <td>432</td>\n",
       "      <td>432</td>\n",
       "      <td>432</td>\n",
       "      <td>432</td>\n",
       "      <td>432</td>\n",
       "      <td>432</td>\n",
       "    </tr>\n",
       "    <tr>\n",
       "      <th>스카니아코리아그룹(주)</th>\n",
       "      <td>9</td>\n",
       "      <td>9</td>\n",
       "      <td>9</td>\n",
       "      <td>9</td>\n",
       "      <td>9</td>\n",
       "      <td>9</td>\n",
       "      <td>9</td>\n",
       "      <td>9</td>\n",
       "      <td>9</td>\n",
       "      <td>9</td>\n",
       "      <td>9</td>\n",
       "    </tr>\n",
       "    <tr>\n",
       "      <th>스텔란티스코리아주식회사</th>\n",
       "      <td>31</td>\n",
       "      <td>31</td>\n",
       "      <td>31</td>\n",
       "      <td>31</td>\n",
       "      <td>31</td>\n",
       "      <td>31</td>\n",
       "      <td>31</td>\n",
       "      <td>31</td>\n",
       "      <td>31</td>\n",
       "      <td>31</td>\n",
       "      <td>31</td>\n",
       "    </tr>\n",
       "    <tr>\n",
       "      <th>유한회사 모토로싸</th>\n",
       "      <td>1</td>\n",
       "      <td>1</td>\n",
       "      <td>1</td>\n",
       "      <td>1</td>\n",
       "      <td>1</td>\n",
       "      <td>1</td>\n",
       "      <td>1</td>\n",
       "      <td>1</td>\n",
       "      <td>1</td>\n",
       "      <td>1</td>\n",
       "      <td>1</td>\n",
       "    </tr>\n",
       "    <tr>\n",
       "      <th>주식회사 마이브</th>\n",
       "      <td>1</td>\n",
       "      <td>1</td>\n",
       "      <td>1</td>\n",
       "      <td>1</td>\n",
       "      <td>1</td>\n",
       "      <td>1</td>\n",
       "      <td>1</td>\n",
       "      <td>1</td>\n",
       "      <td>1</td>\n",
       "      <td>1</td>\n",
       "      <td>1</td>\n",
       "    </tr>\n",
       "    <tr>\n",
       "      <th>지엠코리아(주)</th>\n",
       "      <td>4</td>\n",
       "      <td>4</td>\n",
       "      <td>4</td>\n",
       "      <td>4</td>\n",
       "      <td>4</td>\n",
       "      <td>4</td>\n",
       "      <td>4</td>\n",
       "      <td>4</td>\n",
       "      <td>4</td>\n",
       "      <td>4</td>\n",
       "      <td>4</td>\n",
       "    </tr>\n",
       "    <tr>\n",
       "      <th>테슬라코리아 유한회사</th>\n",
       "      <td>20</td>\n",
       "      <td>20</td>\n",
       "      <td>20</td>\n",
       "      <td>20</td>\n",
       "      <td>20</td>\n",
       "      <td>20</td>\n",
       "      <td>20</td>\n",
       "      <td>20</td>\n",
       "      <td>20</td>\n",
       "      <td>20</td>\n",
       "      <td>20</td>\n",
       "    </tr>\n",
       "    <tr>\n",
       "      <th>포드세일즈서비스코리아(유)</th>\n",
       "      <td>37</td>\n",
       "      <td>37</td>\n",
       "      <td>37</td>\n",
       "      <td>37</td>\n",
       "      <td>37</td>\n",
       "      <td>37</td>\n",
       "      <td>37</td>\n",
       "      <td>37</td>\n",
       "      <td>37</td>\n",
       "      <td>37</td>\n",
       "      <td>37</td>\n",
       "    </tr>\n",
       "    <tr>\n",
       "      <th>포르쉐코리아 주식회사</th>\n",
       "      <td>20</td>\n",
       "      <td>20</td>\n",
       "      <td>20</td>\n",
       "      <td>20</td>\n",
       "      <td>20</td>\n",
       "      <td>20</td>\n",
       "      <td>20</td>\n",
       "      <td>20</td>\n",
       "      <td>20</td>\n",
       "      <td>20</td>\n",
       "      <td>20</td>\n",
       "    </tr>\n",
       "    <tr>\n",
       "      <th>폭스바겐그룹코리아 주식회사</th>\n",
       "      <td>216</td>\n",
       "      <td>216</td>\n",
       "      <td>216</td>\n",
       "      <td>216</td>\n",
       "      <td>216</td>\n",
       "      <td>216</td>\n",
       "      <td>216</td>\n",
       "      <td>216</td>\n",
       "      <td>216</td>\n",
       "      <td>216</td>\n",
       "      <td>216</td>\n",
       "    </tr>\n",
       "    <tr>\n",
       "      <th>폴스타오토모티브코리아 유한회사</th>\n",
       "      <td>1</td>\n",
       "      <td>1</td>\n",
       "      <td>1</td>\n",
       "      <td>1</td>\n",
       "      <td>1</td>\n",
       "      <td>1</td>\n",
       "      <td>1</td>\n",
       "      <td>1</td>\n",
       "      <td>1</td>\n",
       "      <td>1</td>\n",
       "      <td>1</td>\n",
       "    </tr>\n",
       "    <tr>\n",
       "      <th>한국지엠(주)</th>\n",
       "      <td>3</td>\n",
       "      <td>3</td>\n",
       "      <td>3</td>\n",
       "      <td>3</td>\n",
       "      <td>3</td>\n",
       "      <td>3</td>\n",
       "      <td>3</td>\n",
       "      <td>3</td>\n",
       "      <td>3</td>\n",
       "      <td>3</td>\n",
       "      <td>3</td>\n",
       "    </tr>\n",
       "    <tr>\n",
       "      <th>한국토요타자동차(주)</th>\n",
       "      <td>5</td>\n",
       "      <td>5</td>\n",
       "      <td>5</td>\n",
       "      <td>5</td>\n",
       "      <td>5</td>\n",
       "      <td>5</td>\n",
       "      <td>5</td>\n",
       "      <td>5</td>\n",
       "      <td>5</td>\n",
       "      <td>5</td>\n",
       "      <td>5</td>\n",
       "    </tr>\n",
       "    <tr>\n",
       "      <th>한신특장</th>\n",
       "      <td>1</td>\n",
       "      <td>1</td>\n",
       "      <td>1</td>\n",
       "      <td>1</td>\n",
       "      <td>1</td>\n",
       "      <td>1</td>\n",
       "      <td>1</td>\n",
       "      <td>1</td>\n",
       "      <td>1</td>\n",
       "      <td>1</td>\n",
       "      <td>1</td>\n",
       "    </tr>\n",
       "    <tr>\n",
       "      <th>현대자동차(주)</th>\n",
       "      <td>61</td>\n",
       "      <td>61</td>\n",
       "      <td>61</td>\n",
       "      <td>61</td>\n",
       "      <td>61</td>\n",
       "      <td>61</td>\n",
       "      <td>61</td>\n",
       "      <td>61</td>\n",
       "      <td>61</td>\n",
       "      <td>61</td>\n",
       "      <td>61</td>\n",
       "    </tr>\n",
       "    <tr>\n",
       "      <th>혼다코리아(주)</th>\n",
       "      <td>15</td>\n",
       "      <td>15</td>\n",
       "      <td>15</td>\n",
       "      <td>15</td>\n",
       "      <td>15</td>\n",
       "      <td>15</td>\n",
       "      <td>15</td>\n",
       "      <td>15</td>\n",
       "      <td>15</td>\n",
       "      <td>15</td>\n",
       "      <td>15</td>\n",
       "    </tr>\n",
       "    <tr>\n",
       "      <th>화창상사(주)</th>\n",
       "      <td>16</td>\n",
       "      <td>16</td>\n",
       "      <td>16</td>\n",
       "      <td>16</td>\n",
       "      <td>16</td>\n",
       "      <td>16</td>\n",
       "      <td>16</td>\n",
       "      <td>16</td>\n",
       "      <td>16</td>\n",
       "      <td>16</td>\n",
       "      <td>16</td>\n",
       "    </tr>\n",
       "  </tbody>\n",
       "</table>\n",
       "</div>"
      ],
      "text/plain": [
       "                   차명  리콜사유  생산_년  생산_월  생산_일  종료_년  종료_월  종료_일  리콜_년  리콜_월  \\\n",
       "제작자                                                                           \n",
       "(유)기흥모터스           21    21    21    21    21    21    21    21    21    21   \n",
       "(주) 바이크코리아          3     3     3     3     3     3     3     3     3     3   \n",
       "(주) 한국모터트레이딩        3     3     3     3     3     3     3     3     3     3   \n",
       "(주)다산중공업            2     2     2     2     2     2     2     2     2     2   \n",
       "(주)볼보자동차코리아        13    13    13    13    13    13    13    13    13    13   \n",
       "(주)스포츠모터사이클코리아      1     1     1     1     1     1     1     1     1     1   \n",
       "(주)에프엠케이           31    31    31    31    31    31    31    31    31    31   \n",
       "(주)재규어랜드로버코리아      24    24    24    24    24    24    24    24    24    24   \n",
       "(주)피라인              5     5     5     5     5     5     5     5     5     5   \n",
       "기아주식회사             38    38    38    38    38    38    38    38    38    38   \n",
       "기흥인터내셔널 유한회사        1     1     1     1     1     1     1     1     1     1   \n",
       "다임러트럭코리아(주)         9     9     9     9     9     9     9     9     9     9   \n",
       "대전기계공업(주)           3     3     3     3     3     3     3     3     3     3   \n",
       "르노코리아자동차 주식회사       7     7     7     7     7     7     7     7     7     7   \n",
       "만트럭버스코리아(주)        41    41    41    41    41    41    41    41    41    41   \n",
       "메르세데스벤츠코리아(주)     329   329   329   329   329   329   329   329   329   329   \n",
       "모토스타코리아(주)          2     2     2     2     2     2     2     2     2     2   \n",
       "범한자동차 주식회사          4     4     4     4     4     4     4     4     4     4   \n",
       "볼보트럭코리아(주)          4     4     4     4     4     4     4     4     4     4   \n",
       "비엠더블유코리아(주)       432   432   432   432   432   432   432   432   432   432   \n",
       "스카니아코리아그룹(주)        9     9     9     9     9     9     9     9     9     9   \n",
       "스텔란티스코리아주식회사       31    31    31    31    31    31    31    31    31    31   \n",
       "유한회사 모토로싸           1     1     1     1     1     1     1     1     1     1   \n",
       "주식회사 마이브            1     1     1     1     1     1     1     1     1     1   \n",
       "지엠코리아(주)            4     4     4     4     4     4     4     4     4     4   \n",
       "테슬라코리아 유한회사        20    20    20    20    20    20    20    20    20    20   \n",
       "포드세일즈서비스코리아(유)     37    37    37    37    37    37    37    37    37    37   \n",
       "포르쉐코리아 주식회사        20    20    20    20    20    20    20    20    20    20   \n",
       "폭스바겐그룹코리아 주식회사    216   216   216   216   216   216   216   216   216   216   \n",
       "폴스타오토모티브코리아 유한회사    1     1     1     1     1     1     1     1     1     1   \n",
       "한국지엠(주)             3     3     3     3     3     3     3     3     3     3   \n",
       "한국토요타자동차(주)         5     5     5     5     5     5     5     5     5     5   \n",
       "한신특장                1     1     1     1     1     1     1     1     1     1   \n",
       "현대자동차(주)           61    61    61    61    61    61    61    61    61    61   \n",
       "혼다코리아(주)           15    15    15    15    15    15    15    15    15    15   \n",
       "화창상사(주)            16    16    16    16    16    16    16    16    16    16   \n",
       "\n",
       "                  리콜_일  \n",
       "제작자                     \n",
       "(유)기흥모터스            21  \n",
       "(주) 바이크코리아           3  \n",
       "(주) 한국모터트레이딩         3  \n",
       "(주)다산중공업             2  \n",
       "(주)볼보자동차코리아         13  \n",
       "(주)스포츠모터사이클코리아       1  \n",
       "(주)에프엠케이            31  \n",
       "(주)재규어랜드로버코리아       24  \n",
       "(주)피라인               5  \n",
       "기아주식회사              38  \n",
       "기흥인터내셔널 유한회사         1  \n",
       "다임러트럭코리아(주)          9  \n",
       "대전기계공업(주)            3  \n",
       "르노코리아자동차 주식회사        7  \n",
       "만트럭버스코리아(주)         41  \n",
       "메르세데스벤츠코리아(주)      329  \n",
       "모토스타코리아(주)           2  \n",
       "범한자동차 주식회사           4  \n",
       "볼보트럭코리아(주)           4  \n",
       "비엠더블유코리아(주)        432  \n",
       "스카니아코리아그룹(주)         9  \n",
       "스텔란티스코리아주식회사        31  \n",
       "유한회사 모토로싸            1  \n",
       "주식회사 마이브             1  \n",
       "지엠코리아(주)             4  \n",
       "테슬라코리아 유한회사         20  \n",
       "포드세일즈서비스코리아(유)      37  \n",
       "포르쉐코리아 주식회사         20  \n",
       "폭스바겐그룹코리아 주식회사     216  \n",
       "폴스타오토모티브코리아 유한회사     1  \n",
       "한국지엠(주)              3  \n",
       "한국토요타자동차(주)          5  \n",
       "한신특장                 1  \n",
       "현대자동차(주)            61  \n",
       "혼다코리아(주)            15  \n",
       "화창상사(주)             16  "
      ]
     },
     "execution_count": 266,
     "metadata": {},
     "output_type": "execute_result"
    }
   ],
   "source": [
    "df.groupby('제작자').count()"
   ]
  },
  {
   "cell_type": "code",
   "execution_count": 269,
   "metadata": {},
   "outputs": [],
   "source": [
    "import matplotlib.font_manager as fm\n",
    "import matplotlib.pyplot as plt\n",
    "\n",
    "# font_path = './NanumGothic.ttf' # 폰트 위치\n",
    "# plt.rc('font', family=font_name)\n",
    "\n",
    "plt.rc('font', family='Malgun Gothic')\n",
    "# plt.rc('font', family='AppleGothic')\n",
    "plt.rcParams['axes.unicode_minus'] = False # 마이너스 깨짐 현상 해결\n",
    "\n"
   ]
  },
  {
   "cell_type": "code",
   "execution_count": 270,
   "metadata": {},
   "outputs": [
    {
     "data": {
      "image/png": "[encoded data removed]",
      "text/plain": [
       "<Figure size 800x300 with 1 Axes>"
      ]
     },
     "metadata": {},
     "output_type": "display_data"
    }
   ],
   "source": [
    "x = tmp.index\n",
    "y = tmp['count']\n",
    "\n",
    "plt.figure(figsize=(8,3))   # 스케치북에 표를 그리고\n",
    "plt.bar(x=x,height=y)       # bar 차트에 x,y 값 할당\n",
    "plt.xticks(rotation=270)    # x축 이름 회전\n",
    "plt.title('제조사별 리콜건수 현황') # 차트 제목 작성\n",
    "plt.show()                  # 출력"
   ]
  },
  {
   "attachments": {},
   "cell_type": "markdown",
   "metadata": {},
   "source": [
    "### 3.2. 모델별 리콜 현황 출력"
   ]
  },
  {
   "attachments": {},
   "cell_type": "markdown",
   "metadata": {},
   "source": [
    "차량 모델별 리콜 건수 분포를 막대 그래프로 확인해보겠습니다."
   ]
  },
  {
   "cell_type": "code",
   "execution_count": 265,
   "metadata": {},
   "outputs": [
    {
     "ename": "NameError",
     "evalue": "name 'tmp' is not defined",
     "output_type": "error",
     "traceback": [
      "\u001b[1;31m---------------------------------------------------------------------------\u001b[0m",
      "\u001b[1;31mNameError\u001b[0m                                 Traceback (most recent call last)",
      "\u001b[1;32mc:\\Users\\figure_2\\Desktop\\class29\\4_Big_data_problem_solving\\1일차\\0.데이터분석복습\\1.자동차리콜데이터분석\\1.자동차리콜데이터분석_matplotlib_2022.ipynb 셀 65\u001b[0m line \u001b[0;36m1\n\u001b[1;32m----> <a href='vscode-notebook-cell:/c%3A/Users/figure_2/Desktop/class29/4_Big_data_problem_solving/1%EC%9D%BC%EC%B0%A8/0.%EB%8D%B0%EC%9D%B4%ED%84%B0%EB%B6%84%EC%84%9D%EB%B3%B5%EC%8A%B5/1.%EC%9E%90%EB%8F%99%EC%B0%A8%EB%A6%AC%EC%BD%9C%EB%8D%B0%EC%9D%B4%ED%84%B0%EB%B6%84%EC%84%9D/1.%EC%9E%90%EB%8F%99%EC%B0%A8%EB%A6%AC%EC%BD%9C%EB%8D%B0%EC%9D%B4%ED%84%B0%EB%B6%84%EC%84%9D_matplotlib_2022.ipynb#Y110sZmlsZQ%3D%3D?line=0'>1</a>\u001b[0m tmp\u001b[39m.\u001b[39mhead()\n",
      "\u001b[1;31mNameError\u001b[0m: name 'tmp' is not defined"
     ]
    }
   ],
   "source": [
    "\n",
    "tmp.head()"
   ]
  },
  {
   "attachments": {},
   "cell_type": "markdown",
   "metadata": {},
   "source": [
    "모델은 굉장히 많으므로, 상위 50개 모델만 뽑아서 시각화를 진행해보겠습니다."
   ]
  },
  {
   "cell_type": "code",
   "execution_count": null,
   "metadata": {},
   "outputs": [],
   "source": []
  },
  {
   "cell_type": "code",
   "execution_count": null,
   "metadata": {},
   "outputs": [],
   "source": []
  },
  {
   "attachments": {},
   "cell_type": "markdown",
   "metadata": {},
   "source": [
    "### 3.3. 월별 리콜 현황 출력"
   ]
  },
  {
   "attachments": {},
   "cell_type": "markdown",
   "metadata": {},
   "source": [
    "월별 리콜 건수 분포를 막대 그래프로 확인해보겠습니다."
   ]
  },
  {
   "cell_type": "code",
   "execution_count": null,
   "metadata": {},
   "outputs": [],
   "source": []
  },
  {
   "cell_type": "code",
   "execution_count": null,
   "metadata": {},
   "outputs": [],
   "source": []
  },
  {
   "attachments": {},
   "cell_type": "markdown",
   "metadata": {},
   "source": [
    "### 3.4. 생산연도별 리콜 현황 출력"
   ]
  },
  {
   "attachments": {},
   "cell_type": "markdown",
   "metadata": {},
   "source": [
    "이번에는 생산연도별 리콜 현황을 꺾은선 그래프로 알아보겠습니다."
   ]
  },
  {
   "cell_type": "code",
   "execution_count": null,
   "metadata": {},
   "outputs": [],
   "source": []
  },
  {
   "cell_type": "code",
   "execution_count": null,
   "metadata": {
    "execution": {
     "iopub.execute_input": "2021-07-14T07:49:28.889928Z",
     "iopub.status.busy": "2021-07-14T07:49:28.889622Z",
     "iopub.status.idle": "2021-07-14T07:49:29.175674Z",
     "shell.execute_reply": "2021-07-14T07:49:29.174749Z",
     "shell.execute_reply.started": "2021-07-14T07:49:28.889900Z"
    }
   },
   "outputs": [],
   "source": []
  },
  {
   "cell_type": "code",
   "execution_count": null,
   "metadata": {
    "execution": {
     "iopub.execute_input": "2021-07-14T07:49:29.177616Z",
     "iopub.status.busy": "2021-07-14T07:49:29.177347Z",
     "iopub.status.idle": "2021-07-14T07:49:29.187523Z",
     "shell.execute_reply": "2021-07-14T07:49:29.186633Z",
     "shell.execute_reply.started": "2021-07-14T07:49:29.177587Z"
    }
   },
   "outputs": [],
   "source": []
  },
  {
   "attachments": {},
   "cell_type": "markdown",
   "metadata": {},
   "source": [
    "#### 퀴즈 1. 2022년에 리콜 개시가 가장 많이 일어난 달(month)과 가장 적게 일어난 달의 차이(건수)를 구하세요."
   ]
  },
  {
   "cell_type": "code",
   "execution_count": null,
   "metadata": {},
   "outputs": [],
   "source": []
  },
  {
   "cell_type": "code",
   "execution_count": null,
   "metadata": {},
   "outputs": [],
   "source": []
  },
  {
   "cell_type": "code",
   "execution_count": null,
   "metadata": {},
   "outputs": [],
   "source": []
  },
  {
   "attachments": {},
   "cell_type": "markdown",
   "metadata": {},
   "source": [
    "### 3.5. 4분기 제조사별 리콜 현황 출력"
   ]
  },
  {
   "attachments": {},
   "cell_type": "markdown",
   "metadata": {},
   "source": [
    "가장 최근 데이터인 2022년 4분기(10, 11, 12월) 제조사별 리콜 현황을 시각화해봅시다."
   ]
  },
  {
   "cell_type": "code",
   "execution_count": null,
   "metadata": {},
   "outputs": [],
   "source": []
  },
  {
   "cell_type": "code",
   "execution_count": null,
   "metadata": {},
   "outputs": [],
   "source": []
  },
  {
   "cell_type": "code",
   "execution_count": null,
   "metadata": {},
   "outputs": [],
   "source": []
  },
  {
   "cell_type": "code",
   "execution_count": null,
   "metadata": {},
   "outputs": [],
   "source": []
  },
  {
   "attachments": {},
   "cell_type": "markdown",
   "metadata": {},
   "source": [
    "### 3.6. 하반기 생산연도별 리콜 현황 출력"
   ]
  },
  {
   "attachments": {},
   "cell_type": "markdown",
   "metadata": {},
   "source": [
    "이번에는 2022년 하반기(7~12월)에 개시된 리콜 건들을 생산 개시 연도를 기준으로 시각화해봅시다."
   ]
  },
  {
   "cell_type": "code",
   "execution_count": null,
   "metadata": {
    "execution": {
     "iopub.execute_input": "2021-07-14T07:52:05.090930Z",
     "iopub.status.busy": "2021-07-14T07:52:05.090552Z",
     "iopub.status.idle": "2021-07-14T07:52:05.114687Z",
     "shell.execute_reply": "2021-07-14T07:52:05.113535Z",
     "shell.execute_reply.started": "2021-07-14T07:52:05.090897Z"
    }
   },
   "outputs": [],
   "source": [
    "\n"
   ]
  },
  {
   "cell_type": "code",
   "execution_count": null,
   "metadata": {},
   "outputs": [],
   "source": []
  },
  {
   "cell_type": "code",
   "execution_count": null,
   "metadata": {},
   "outputs": [],
   "source": []
  },
  {
   "attachments": {},
   "cell_type": "markdown",
   "metadata": {},
   "source": [
    "### 3.7. 워드 클라우드를 이용한 리콜 사유 시각화"
   ]
  },
  {
   "attachments": {},
   "cell_type": "markdown",
   "metadata": {},
   "source": [
    "워드 클라우드를 이용하여 리콜 사유를 시각화해보도록 하겠습니다."
   ]
  },
  {
   "cell_type": "code",
   "execution_count": null,
   "metadata": {},
   "outputs": [],
   "source": [
    "# 워드 클라우드 생성을 도와주는 패키지를 가져옵니다.\n",
    "from wordcloud import WordCloud, STOPWORDS"
   ]
  },
  {
   "cell_type": "code",
   "execution_count": null,
   "metadata": {
    "execution": {
     "iopub.execute_input": "2021-07-14T07:52:13.248705Z",
     "iopub.status.busy": "2021-07-14T07:52:13.248293Z",
     "iopub.status.idle": "2021-07-14T07:52:13.258875Z",
     "shell.execute_reply": "2021-07-14T07:52:13.258131Z",
     "shell.execute_reply.started": "2021-07-14T07:52:13.248666Z"
    }
   },
   "outputs": [],
   "source": [
    "# 문법적인 성분들을 배제하기 위해 stopwords들을 따로 저장해둡니다.\n",
    "set(STOPWORDS)"
   ]
  },
  {
   "attachments": {},
   "cell_type": "markdown",
   "metadata": {},
   "source": [
    "영어를 사용할 때는 상관 없지만, 우리말을 쓸 때에는 적합하지 않습니다. 여기서는 예시로 몇 개의 stopwords들을 수기로 저장해보겠습니다."
   ]
  },
  {
   "cell_type": "code",
   "execution_count": null,
   "metadata": {
    "execution": {
     "iopub.execute_input": "2021-07-14T07:52:18.596069Z",
     "iopub.status.busy": "2021-07-14T07:52:18.595561Z",
     "iopub.status.idle": "2021-07-14T07:52:18.600036Z",
     "shell.execute_reply": "2021-07-14T07:52:18.599218Z",
     "shell.execute_reply.started": "2021-07-14T07:52:18.596037Z"
    }
   },
   "outputs": [],
   "source": [
    "# 손으로 직접 리콜 사유와 관련이 적은 문법적 어구들을 배제해보겠습니다.\n",
    "spwords = set([\"동안\", \"인하여\", \"있는\", \"경우\", \"있습니다\", \"가능성이\", \"않을\", \"차량의\", \"가\", \"에\", \"될\", \"이\",\n",
    "               \"인해\", \"수\", \"중\", \"시\", \"또는\", \"있음\", \"의\", \"및\", \"있으며\", \"발생할\", \"이로\", \"오류로\", \"해당\"])"
   ]
  },
  {
   "cell_type": "code",
   "execution_count": null,
   "metadata": {},
   "outputs": [],
   "source": []
  },
  {
   "cell_type": "code",
   "execution_count": null,
   "metadata": {},
   "outputs": [],
   "source": []
  },
  {
   "attachments": {},
   "cell_type": "markdown",
   "metadata": {},
   "source": [
    "워드 클라우드를 생성하고 시각화해보겠습니다."
   ]
  },
  {
   "cell_type": "code",
   "execution_count": null,
   "metadata": {
    "execution": {
     "iopub.execute_input": "2021-07-14T07:54:53.423675Z",
     "iopub.status.busy": "2021-07-14T07:54:53.423233Z",
     "iopub.status.idle": "2021-07-14T07:54:53.608966Z",
     "shell.execute_reply": "2021-07-14T07:54:53.606602Z",
     "shell.execute_reply.started": "2021-07-14T07:54:53.423635Z"
    }
   },
   "outputs": [],
   "source": [
    "# 한글을 사용하기 위해서는 폰트를 지정해주어야 합니다.\n",
    "pont_path = './NanumGothic.ttf'\n",
    "wc1 = WordCloud(max_font_size=200, stopwords=spwords, font_path=font_path,\n",
    "                background_color='white', width=800, height=800)\n",
    "wc1.generate(text)\n",
    "\n",
    "plt.figure(figsize=(10, 8))\n",
    "plt.imshow(wc1)\n",
    "plt.tight_layout(pad=0)\n",
    "plt.axis('off')\n",
    "plt.show()"
   ]
  },
  {
   "attachments": {},
   "cell_type": "markdown",
   "metadata": {},
   "source": [
    "#### 퀴즈 2. 기아자동차(주)의 제품 중 가장 최근에 리콜이 개시된 제품의 모델명을 구하세요. "
   ]
  },
  {
   "cell_type": "code",
   "execution_count": null,
   "metadata": {},
   "outputs": [],
   "source": []
  },
  {
   "cell_type": "code",
   "execution_count": null,
   "metadata": {},
   "outputs": [],
   "source": []
  },
  {
   "cell_type": "code",
   "execution_count": null,
   "metadata": {},
   "outputs": [],
   "source": []
  }
 ],
 "metadata": {
  "kernelspec": {
   "display_name": "Python 3",
   "language": "python",
   "name": "python3"
  },
  "language_info": {
   "codemirror_mode": {
    "name": "ipython",
    "version": 3
   },
   "file_extension": ".py",
   "mimetype": "text/x-python",
   "name": "python",
   "nbconvert_exporter": "python",
   "pygments_lexer": "ipython3",
   "version": "3.10.11"
  }
 },
 "nbformat": 4,
 "nbformat_minor": 4
}
